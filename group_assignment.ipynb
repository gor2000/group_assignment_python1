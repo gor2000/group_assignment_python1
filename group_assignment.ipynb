{
 "cells": [
  {
   "cell_type": "markdown",
   "id": "c014f311-2159-4b24-be0a-a4c2d2734c98",
   "metadata": {},
   "source": [
    "## Part I: Exploratory analysis (3 points)\n",
    "\n",
    "Read the dataset correctly using pandas, using an appropriate column as index (1 point)"
   ]
  },
  {
   "cell_type": "code",
   "execution_count": 2,
   "id": "05e90c97-716a-49d2-9470-886fb62d214e",
   "metadata": {
    "ExecuteTime": {
     "end_time": "2023-07-04T14:50:00.894504800Z",
     "start_time": "2023-07-04T14:49:59.482754700Z"
    }
   },
   "outputs": [
    {
     "data": {
      "text/plain": "             Survived  Pclass  \\\nPassengerId                     \n1                   0       3   \n2                   1       1   \n3                   1       3   \n4                   1       1   \n5                   0       3   \n\n                                                          Name     Sex   Age  \\\nPassengerId                                                                    \n1                                      Braund, Mr. Owen Harris    male  22.0   \n2            Cumings, Mrs. John Bradley (Florence Briggs Th...  female  38.0   \n3                                       Heikkinen, Miss. Laina  female  26.0   \n4                 Futrelle, Mrs. Jacques Heath (Lily May Peel)  female  35.0   \n5                                     Allen, Mr. William Henry    male  35.0   \n\n             SibSp  Parch            Ticket     Fare Cabin Embarked  \nPassengerId                                                          \n1                1      0         A/5 21171   7.2500   NaN        S  \n2                1      0          PC 17599  71.2833   C85        C  \n3                0      0  STON/O2. 3101282   7.9250   NaN        S  \n4                1      0            113803  53.1000  C123        S  \n5                0      0            373450   8.0500   NaN        S  ",
      "text/html": "<div>\n<style scoped>\n    .dataframe tbody tr th:only-of-type {\n        vertical-align: middle;\n    }\n\n    .dataframe tbody tr th {\n        vertical-align: top;\n    }\n\n    .dataframe thead th {\n        text-align: right;\n    }\n</style>\n<table border=\"1\" class=\"dataframe\">\n  <thead>\n    <tr style=\"text-align: right;\">\n      <th></th>\n      <th>Survived</th>\n      <th>Pclass</th>\n      <th>Name</th>\n      <th>Sex</th>\n      <th>Age</th>\n      <th>SibSp</th>\n      <th>Parch</th>\n      <th>Ticket</th>\n      <th>Fare</th>\n      <th>Cabin</th>\n      <th>Embarked</th>\n    </tr>\n    <tr>\n      <th>PassengerId</th>\n      <th></th>\n      <th></th>\n      <th></th>\n      <th></th>\n      <th></th>\n      <th></th>\n      <th></th>\n      <th></th>\n      <th></th>\n      <th></th>\n      <th></th>\n    </tr>\n  </thead>\n  <tbody>\n    <tr>\n      <th>1</th>\n      <td>0</td>\n      <td>3</td>\n      <td>Braund, Mr. Owen Harris</td>\n      <td>male</td>\n      <td>22.0</td>\n      <td>1</td>\n      <td>0</td>\n      <td>A/5 21171</td>\n      <td>7.2500</td>\n      <td>NaN</td>\n      <td>S</td>\n    </tr>\n    <tr>\n      <th>2</th>\n      <td>1</td>\n      <td>1</td>\n      <td>Cumings, Mrs. John Bradley (Florence Briggs Th...</td>\n      <td>female</td>\n      <td>38.0</td>\n      <td>1</td>\n      <td>0</td>\n      <td>PC 17599</td>\n      <td>71.2833</td>\n      <td>C85</td>\n      <td>C</td>\n    </tr>\n    <tr>\n      <th>3</th>\n      <td>1</td>\n      <td>3</td>\n      <td>Heikkinen, Miss. Laina</td>\n      <td>female</td>\n      <td>26.0</td>\n      <td>0</td>\n      <td>0</td>\n      <td>STON/O2. 3101282</td>\n      <td>7.9250</td>\n      <td>NaN</td>\n      <td>S</td>\n    </tr>\n    <tr>\n      <th>4</th>\n      <td>1</td>\n      <td>1</td>\n      <td>Futrelle, Mrs. Jacques Heath (Lily May Peel)</td>\n      <td>female</td>\n      <td>35.0</td>\n      <td>1</td>\n      <td>0</td>\n      <td>113803</td>\n      <td>53.1000</td>\n      <td>C123</td>\n      <td>S</td>\n    </tr>\n    <tr>\n      <th>5</th>\n      <td>0</td>\n      <td>3</td>\n      <td>Allen, Mr. William Henry</td>\n      <td>male</td>\n      <td>35.0</td>\n      <td>0</td>\n      <td>0</td>\n      <td>373450</td>\n      <td>8.0500</td>\n      <td>NaN</td>\n      <td>S</td>\n    </tr>\n  </tbody>\n</table>\n</div>"
     },
     "execution_count": 2,
     "metadata": {},
     "output_type": "execute_result"
    }
   ],
   "source": [
    "import pandas as pd\n",
    "\n",
    "df = pd.read_csv('train.csv', index_col='PassengerId')\n",
    "df.head()"
   ]
  },
  {
   "cell_type": "code",
   "execution_count": 3,
   "outputs": [
    {
     "data": {
      "text/plain": "             Survived  Pclass  \\\nPassengerId                     \n485                 1       1   \n62                  1       1   \n838                 0       3   \n620                 0       2   \n326                 1       1   \n768                 0       3   \n136                 0       2   \n603                 0       1   \n580                 1       3   \n586                 1       1   \n447                 1       2   \n506                 0       1   \n628                 1       1   \n428                 1       2   \n413                 1       1   \n251                 0       3   \n555                 1       3   \n181                 0       3   \n67                  1       2   \n110                 1       3   \n\n                                                          Name     Sex   Age  \\\nPassengerId                                                                    \n485                                    Bishop, Mr. Dickinson H    male  25.0   \n62                                         Icard, Miss. Amelie  female  38.0   \n838                                        Sirota, Mr. Maurice    male   NaN   \n620                                        Gavey, Mr. Lawrence    male  26.0   \n326                                   Young, Miss. Marie Grice  female  36.0   \n768                                         Mangan, Miss. Mary  female  30.5   \n136                                         Richard, Mr. Emile    male  23.0   \n603                                  Harrington, Mr. Charles H    male   NaN   \n580                                        Jussila, Mr. Eiriik    male  32.0   \n586                                        Taussig, Miss. Ruth  female  18.0   \n447                          Mellinger, Miss. Madeleine Violet  female  13.0   \n506                 Penasco y Castellana, Mr. Victor de Satode    male  18.0   \n628                              Longley, Miss. Gretchen Fiske  female  21.0   \n428          Phillips, Miss. Kate Florence (\"Mrs Kate Louis...  female  19.0   \n413                                     Minahan, Miss. Daisy E  female  33.0   \n251                                     Reed, Mr. James George    male   NaN   \n555                                         Ohman, Miss. Velin  female  22.0   \n181                               Sage, Miss. Constance Gladys  female   NaN   \n67                                Nye, Mrs. (Elizabeth Ramell)  female  29.0   \n110                                        Moran, Miss. Bertha  female   NaN   \n\n             SibSp  Parch             Ticket      Fare Cabin Embarked  \nPassengerId                                                            \n485              1      0              11967   91.0792   B49        C  \n62               0      0             113572   80.0000   B28      NaN  \n838              0      0             392092    8.0500   NaN        S  \n620              0      0              31028   10.5000   NaN        S  \n326              0      0           PC 17760  135.6333   C32        C  \n768              0      0             364850    7.7500   NaN        Q  \n136              0      0      SC/PARIS 2133   15.0458   NaN        C  \n603              0      0             113796   42.4000   NaN        S  \n580              0      0  STON/O 2. 3101286    7.9250   NaN        S  \n586              0      2             110413   79.6500   E68        S  \n447              0      1             250644   19.5000   NaN        S  \n506              1      0           PC 17758  108.9000   C65        C  \n628              0      0              13502   77.9583    D9        S  \n428              0      0             250655   26.0000   NaN        S  \n413              1      0              19928   90.0000   C78        Q  \n251              0      0             362316    7.2500   NaN        S  \n555              0      0             347085    7.7750   NaN        S  \n181              8      2           CA. 2343   69.5500   NaN        S  \n67               0      0         C.A. 29395   10.5000   F33        S  \n110              1      0             371110   24.1500   NaN        Q  ",
      "text/html": "<div>\n<style scoped>\n    .dataframe tbody tr th:only-of-type {\n        vertical-align: middle;\n    }\n\n    .dataframe tbody tr th {\n        vertical-align: top;\n    }\n\n    .dataframe thead th {\n        text-align: right;\n    }\n</style>\n<table border=\"1\" class=\"dataframe\">\n  <thead>\n    <tr style=\"text-align: right;\">\n      <th></th>\n      <th>Survived</th>\n      <th>Pclass</th>\n      <th>Name</th>\n      <th>Sex</th>\n      <th>Age</th>\n      <th>SibSp</th>\n      <th>Parch</th>\n      <th>Ticket</th>\n      <th>Fare</th>\n      <th>Cabin</th>\n      <th>Embarked</th>\n    </tr>\n    <tr>\n      <th>PassengerId</th>\n      <th></th>\n      <th></th>\n      <th></th>\n      <th></th>\n      <th></th>\n      <th></th>\n      <th></th>\n      <th></th>\n      <th></th>\n      <th></th>\n      <th></th>\n    </tr>\n  </thead>\n  <tbody>\n    <tr>\n      <th>485</th>\n      <td>1</td>\n      <td>1</td>\n      <td>Bishop, Mr. Dickinson H</td>\n      <td>male</td>\n      <td>25.0</td>\n      <td>1</td>\n      <td>0</td>\n      <td>11967</td>\n      <td>91.0792</td>\n      <td>B49</td>\n      <td>C</td>\n    </tr>\n    <tr>\n      <th>62</th>\n      <td>1</td>\n      <td>1</td>\n      <td>Icard, Miss. Amelie</td>\n      <td>female</td>\n      <td>38.0</td>\n      <td>0</td>\n      <td>0</td>\n      <td>113572</td>\n      <td>80.0000</td>\n      <td>B28</td>\n      <td>NaN</td>\n    </tr>\n    <tr>\n      <th>838</th>\n      <td>0</td>\n      <td>3</td>\n      <td>Sirota, Mr. Maurice</td>\n      <td>male</td>\n      <td>NaN</td>\n      <td>0</td>\n      <td>0</td>\n      <td>392092</td>\n      <td>8.0500</td>\n      <td>NaN</td>\n      <td>S</td>\n    </tr>\n    <tr>\n      <th>620</th>\n      <td>0</td>\n      <td>2</td>\n      <td>Gavey, Mr. Lawrence</td>\n      <td>male</td>\n      <td>26.0</td>\n      <td>0</td>\n      <td>0</td>\n      <td>31028</td>\n      <td>10.5000</td>\n      <td>NaN</td>\n      <td>S</td>\n    </tr>\n    <tr>\n      <th>326</th>\n      <td>1</td>\n      <td>1</td>\n      <td>Young, Miss. Marie Grice</td>\n      <td>female</td>\n      <td>36.0</td>\n      <td>0</td>\n      <td>0</td>\n      <td>PC 17760</td>\n      <td>135.6333</td>\n      <td>C32</td>\n      <td>C</td>\n    </tr>\n    <tr>\n      <th>768</th>\n      <td>0</td>\n      <td>3</td>\n      <td>Mangan, Miss. Mary</td>\n      <td>female</td>\n      <td>30.5</td>\n      <td>0</td>\n      <td>0</td>\n      <td>364850</td>\n      <td>7.7500</td>\n      <td>NaN</td>\n      <td>Q</td>\n    </tr>\n    <tr>\n      <th>136</th>\n      <td>0</td>\n      <td>2</td>\n      <td>Richard, Mr. Emile</td>\n      <td>male</td>\n      <td>23.0</td>\n      <td>0</td>\n      <td>0</td>\n      <td>SC/PARIS 2133</td>\n      <td>15.0458</td>\n      <td>NaN</td>\n      <td>C</td>\n    </tr>\n    <tr>\n      <th>603</th>\n      <td>0</td>\n      <td>1</td>\n      <td>Harrington, Mr. Charles H</td>\n      <td>male</td>\n      <td>NaN</td>\n      <td>0</td>\n      <td>0</td>\n      <td>113796</td>\n      <td>42.4000</td>\n      <td>NaN</td>\n      <td>S</td>\n    </tr>\n    <tr>\n      <th>580</th>\n      <td>1</td>\n      <td>3</td>\n      <td>Jussila, Mr. Eiriik</td>\n      <td>male</td>\n      <td>32.0</td>\n      <td>0</td>\n      <td>0</td>\n      <td>STON/O 2. 3101286</td>\n      <td>7.9250</td>\n      <td>NaN</td>\n      <td>S</td>\n    </tr>\n    <tr>\n      <th>586</th>\n      <td>1</td>\n      <td>1</td>\n      <td>Taussig, Miss. Ruth</td>\n      <td>female</td>\n      <td>18.0</td>\n      <td>0</td>\n      <td>2</td>\n      <td>110413</td>\n      <td>79.6500</td>\n      <td>E68</td>\n      <td>S</td>\n    </tr>\n    <tr>\n      <th>447</th>\n      <td>1</td>\n      <td>2</td>\n      <td>Mellinger, Miss. Madeleine Violet</td>\n      <td>female</td>\n      <td>13.0</td>\n      <td>0</td>\n      <td>1</td>\n      <td>250644</td>\n      <td>19.5000</td>\n      <td>NaN</td>\n      <td>S</td>\n    </tr>\n    <tr>\n      <th>506</th>\n      <td>0</td>\n      <td>1</td>\n      <td>Penasco y Castellana, Mr. Victor de Satode</td>\n      <td>male</td>\n      <td>18.0</td>\n      <td>1</td>\n      <td>0</td>\n      <td>PC 17758</td>\n      <td>108.9000</td>\n      <td>C65</td>\n      <td>C</td>\n    </tr>\n    <tr>\n      <th>628</th>\n      <td>1</td>\n      <td>1</td>\n      <td>Longley, Miss. Gretchen Fiske</td>\n      <td>female</td>\n      <td>21.0</td>\n      <td>0</td>\n      <td>0</td>\n      <td>13502</td>\n      <td>77.9583</td>\n      <td>D9</td>\n      <td>S</td>\n    </tr>\n    <tr>\n      <th>428</th>\n      <td>1</td>\n      <td>2</td>\n      <td>Phillips, Miss. Kate Florence (\"Mrs Kate Louis...</td>\n      <td>female</td>\n      <td>19.0</td>\n      <td>0</td>\n      <td>0</td>\n      <td>250655</td>\n      <td>26.0000</td>\n      <td>NaN</td>\n      <td>S</td>\n    </tr>\n    <tr>\n      <th>413</th>\n      <td>1</td>\n      <td>1</td>\n      <td>Minahan, Miss. Daisy E</td>\n      <td>female</td>\n      <td>33.0</td>\n      <td>1</td>\n      <td>0</td>\n      <td>19928</td>\n      <td>90.0000</td>\n      <td>C78</td>\n      <td>Q</td>\n    </tr>\n    <tr>\n      <th>251</th>\n      <td>0</td>\n      <td>3</td>\n      <td>Reed, Mr. James George</td>\n      <td>male</td>\n      <td>NaN</td>\n      <td>0</td>\n      <td>0</td>\n      <td>362316</td>\n      <td>7.2500</td>\n      <td>NaN</td>\n      <td>S</td>\n    </tr>\n    <tr>\n      <th>555</th>\n      <td>1</td>\n      <td>3</td>\n      <td>Ohman, Miss. Velin</td>\n      <td>female</td>\n      <td>22.0</td>\n      <td>0</td>\n      <td>0</td>\n      <td>347085</td>\n      <td>7.7750</td>\n      <td>NaN</td>\n      <td>S</td>\n    </tr>\n    <tr>\n      <th>181</th>\n      <td>0</td>\n      <td>3</td>\n      <td>Sage, Miss. Constance Gladys</td>\n      <td>female</td>\n      <td>NaN</td>\n      <td>8</td>\n      <td>2</td>\n      <td>CA. 2343</td>\n      <td>69.5500</td>\n      <td>NaN</td>\n      <td>S</td>\n    </tr>\n    <tr>\n      <th>67</th>\n      <td>1</td>\n      <td>2</td>\n      <td>Nye, Mrs. (Elizabeth Ramell)</td>\n      <td>female</td>\n      <td>29.0</td>\n      <td>0</td>\n      <td>0</td>\n      <td>C.A. 29395</td>\n      <td>10.5000</td>\n      <td>F33</td>\n      <td>S</td>\n    </tr>\n    <tr>\n      <th>110</th>\n      <td>1</td>\n      <td>3</td>\n      <td>Moran, Miss. Bertha</td>\n      <td>female</td>\n      <td>NaN</td>\n      <td>1</td>\n      <td>0</td>\n      <td>371110</td>\n      <td>24.1500</td>\n      <td>NaN</td>\n      <td>Q</td>\n    </tr>\n  </tbody>\n</table>\n</div>"
     },
     "execution_count": 3,
     "metadata": {},
     "output_type": "execute_result"
    }
   ],
   "source": [
    "df.sample(20)"
   ],
   "metadata": {
    "collapsed": false,
    "ExecuteTime": {
     "end_time": "2023-07-04T14:50:03.978608500Z",
     "start_time": "2023-07-04T14:50:03.946020700Z"
    }
   }
  },
  {
   "cell_type": "markdown",
   "id": "c855c092-90d9-49bd-ae14-8f85f124fdb1",
   "metadata": {},
   "source": [
    "Compute the percentage of survivors out of total number of passengers..."
   ]
  },
  {
   "cell_type": "code",
   "execution_count": 5,
   "id": "8f54fd98-5047-4a01-ab5b-dd5c9de130df",
   "metadata": {
    "ExecuteTime": {
     "end_time": "2023-07-04T14:51:00.911123700Z",
     "start_time": "2023-07-04T14:51:00.882099700Z"
    }
   },
   "outputs": [
    {
     "name": "stdout",
     "output_type": "stream",
     "text": [
      "Percentage of survivors: 38.38%\n"
     ]
    }
   ],
   "source": [
    "total = df.shape[0]\n",
    "survivors = df[df['Survived'] == 1].shape[0]\n",
    "survivors_per = survivors/total\n",
    "print(f\"Percentage of survivors: {round(survivors_per*100,2)}%\")"
   ]
  },
  {
   "cell_type": "markdown",
   "id": "d4cb8fb4-c9e3-44bf-b65c-0c124bc1ae7e",
   "metadata": {},
   "source": [
    "...and the percentage of men and women out of total number of passengers (0.5 points)"
   ]
  },
  {
   "cell_type": "code",
   "execution_count": 6,
   "id": "9e6dcd68-9834-4006-84b1-5e4a3e178650",
   "metadata": {
    "ExecuteTime": {
     "end_time": "2023-07-04T14:52:05.503429800Z",
     "start_time": "2023-07-04T14:52:05.478745800Z"
    }
   },
   "outputs": [
    {
     "name": "stdout",
     "output_type": "stream",
     "text": [
      "Percentage of male: 64.76%\n",
      "Percentage of female: 35.24%\n"
     ]
    }
   ],
   "source": [
    "men = df[df['Sex'] == 'male'].shape[0]\n",
    "woman = df[df['Sex'] == 'female'].shape[0]\n",
    "men_per = men/total\n",
    "woman_per = woman/total\n",
    "print(f\"Percentage of male: {round(men_per*100,2)}%\")\n",
    "print(f\"Percentage of female: {round(woman_per*100,2)}%\")"
   ]
  },
  {
   "cell_type": "markdown",
   "id": "2c913e51-3aa0-449e-a323-e9954dc188b3",
   "metadata": {},
   "source": [
    "Compute the percentage of survivors by sex (i.e. the percentage of male passengers that survived and female passengers that survived)..."
   ]
  },
  {
   "cell_type": "code",
   "execution_count": 7,
   "id": "a64ef95b-fcf7-490a-aaaf-145bad652094",
   "metadata": {
    "ExecuteTime": {
     "end_time": "2023-07-04T14:52:37.276473Z",
     "start_time": "2023-07-04T14:52:37.265891100Z"
    }
   },
   "outputs": [
    {
     "name": "stdout",
     "output_type": "stream",
     "text": [
      "Percentage of male passengers who survived: 18.89%\n",
      "Percentage of female passengers who survived: 74.2%\n"
     ]
    }
   ],
   "source": [
    "surv_men = df[(df['Sex'] == 'male') & (df['Survived'] == 1)].shape[0]\n",
    "surv_woman = df[(df['Sex'] == 'female') & (df['Survived'] == 1)].shape[0]\n",
    "\n",
    "surv_men_per = surv_men / men\n",
    "surv_woman_per = surv_woman / woman\n",
    "print(f\"Percentage of male passengers who survived: {round(surv_men_per*100,2)}%\")\n",
    "print(f\"Percentage of female passengers who survived: {round(surv_woman_per*100,2)}%\")"
   ]
  },
  {
   "cell_type": "markdown",
   "id": "8928d6c0-d642-468f-948b-06492052a0cc",
   "metadata": {},
   "source": [
    "...and the sex distribution of survivors (i.e. percentage of survivors that were men and percentage of survivors that were women) (0.5 points)"
   ]
  },
  {
   "cell_type": "code",
   "execution_count": 8,
   "id": "ee65ca0f-ebea-4be3-a9bc-e2d8d6766c48",
   "metadata": {
    "ExecuteTime": {
     "end_time": "2023-07-04T14:53:08.261321200Z",
     "start_time": "2023-07-04T14:53:08.252040600Z"
    }
   },
   "outputs": [
    {
     "name": "stdout",
     "output_type": "stream",
     "text": [
      "Percentage of survivors who were men: 31.87%\n",
      "Percentage of survivors who were women: 68.13%\n"
     ]
    }
   ],
   "source": [
    "male_surv_per = (surv_men / survivors)\n",
    "female_surv_per = (surv_woman / survivors)\n",
    "print(f\"Percentage of survivors who were men: {round(male_surv_per * 100, 2)}%\")\n",
    "print(f\"Percentage of survivors who were women: {round(female_surv_per * 100, 2)}%\")"
   ]
  },
  {
   "cell_type": "markdown",
   "id": "cb3c809c-2d2e-4b0f-bdfb-a49e1f6a5ade",
   "metadata": {},
   "source": [
    "Display in a 2 x 2 DataFrame the probability of being male/female and surviving/not surviving (0.5 points)\n",
    "\n",
    "One possible option:\n",
    "\n",
    "|            | **Survived**      | **Not survived**      |\n",
    "|------------|-------------------|-----------------------|\n",
    "| **Male**   | Male & Survived   | Male & Not survived   |\n",
    "| **Female** | Female & Survived | Female & Not survived |\n",
    "\n",
    "Notice that the sum of all values in the table above should be 1 (or 100 %)."
   ]
  },
  {
   "cell_type": "code",
   "execution_count": 9,
   "id": "36112d8b-0c7a-4417-bcc3-302eed4515b8",
   "metadata": {
    "ExecuteTime": {
     "end_time": "2023-07-04T14:53:41.040470600Z",
     "start_time": "2023-07-04T14:53:40.958307700Z"
    }
   },
   "outputs": [
    {
     "data": {
      "text/plain": "Survived  Not Survived  Survived\nSex                             \nfemale        0.090909  0.261504\nmale          0.525253  0.122334",
      "text/html": "<div>\n<style scoped>\n    .dataframe tbody tr th:only-of-type {\n        vertical-align: middle;\n    }\n\n    .dataframe tbody tr th {\n        vertical-align: top;\n    }\n\n    .dataframe thead th {\n        text-align: right;\n    }\n</style>\n<table border=\"1\" class=\"dataframe\">\n  <thead>\n    <tr style=\"text-align: right;\">\n      <th>Survived</th>\n      <th>Not Survived</th>\n      <th>Survived</th>\n    </tr>\n    <tr>\n      <th>Sex</th>\n      <th></th>\n      <th></th>\n    </tr>\n  </thead>\n  <tbody>\n    <tr>\n      <th>female</th>\n      <td>0.090909</td>\n      <td>0.261504</td>\n    </tr>\n    <tr>\n      <th>male</th>\n      <td>0.525253</td>\n      <td>0.122334</td>\n    </tr>\n  </tbody>\n</table>\n</div>"
     },
     "execution_count": 9,
     "metadata": {},
     "output_type": "execute_result"
    }
   ],
   "source": [
    "sex_and_survived = df.groupby(['Sex', 'Survived']).size()\n",
    "\n",
    "prob = sex_and_survived / total\n",
    "\n",
    "prob = prob.unstack()\n",
    "prob = prob.rename(columns={0: 'Not Survived', 1: 'Survived'})\n",
    "prob"
   ]
  },
  {
   "cell_type": "markdown",
   "id": "ec2b4661-8cb1-4551-8c9a-ffb4ab4ea138",
   "metadata": {},
   "source": [
    "Display in a DataFrame the probability of survival/not survival of all combinations of sex and class (0.5 points)\n",
    "\n",
    "One possible option:\n",
    "\n",
    "|            |   | **Survived**              | **Not survived** |\n",
    "|------------|---|---------------------------|------------------|\n",
    "| **Male**   | 1 | Male & Survived & Class 1 | ...              |\n",
    "|            | 2 | Male & Survived & Class 2 | ...              |\n",
    "|            | 3 | Male & Survived & Class 3 | ...              |\n",
    "| **Female** | 1 | ...                       | ...              |\n",
    "|            | 2 | ...                       | ...              |\n",
    "|            | 3 | ...                       | ...              |\n",
    "\n",
    "Notice that the sum of all values in the table above should be 1 (or 100 %)."
   ]
  },
  {
   "cell_type": "code",
   "execution_count": 10,
   "id": "9fcf470d-ca4b-489e-be6b-86c526a6f315",
   "metadata": {
    "ExecuteTime": {
     "end_time": "2023-07-04T14:54:03.052013700Z",
     "start_time": "2023-07-04T14:54:03.037929800Z"
    }
   },
   "outputs": [
    {
     "data": {
      "text/plain": "Survived       Not Survived  Survived\nSex    Pclass                        \nfemale 1           0.003367  0.102132\n       2           0.006734  0.078563\n       3           0.080808  0.080808\nmale   1           0.086420  0.050505\n       2           0.102132  0.019080\n       3           0.336700  0.052750",
      "text/html": "<div>\n<style scoped>\n    .dataframe tbody tr th:only-of-type {\n        vertical-align: middle;\n    }\n\n    .dataframe tbody tr th {\n        vertical-align: top;\n    }\n\n    .dataframe thead th {\n        text-align: right;\n    }\n</style>\n<table border=\"1\" class=\"dataframe\">\n  <thead>\n    <tr style=\"text-align: right;\">\n      <th></th>\n      <th>Survived</th>\n      <th>Not Survived</th>\n      <th>Survived</th>\n    </tr>\n    <tr>\n      <th>Sex</th>\n      <th>Pclass</th>\n      <th></th>\n      <th></th>\n    </tr>\n  </thead>\n  <tbody>\n    <tr>\n      <th rowspan=\"3\" valign=\"top\">female</th>\n      <th>1</th>\n      <td>0.003367</td>\n      <td>0.102132</td>\n    </tr>\n    <tr>\n      <th>2</th>\n      <td>0.006734</td>\n      <td>0.078563</td>\n    </tr>\n    <tr>\n      <th>3</th>\n      <td>0.080808</td>\n      <td>0.080808</td>\n    </tr>\n    <tr>\n      <th rowspan=\"3\" valign=\"top\">male</th>\n      <th>1</th>\n      <td>0.086420</td>\n      <td>0.050505</td>\n    </tr>\n    <tr>\n      <th>2</th>\n      <td>0.102132</td>\n      <td>0.019080</td>\n    </tr>\n    <tr>\n      <th>3</th>\n      <td>0.336700</td>\n      <td>0.052750</td>\n    </tr>\n  </tbody>\n</table>\n</div>"
     },
     "execution_count": 10,
     "metadata": {},
     "output_type": "execute_result"
    }
   ],
   "source": [
    "total_prob = df.groupby(['Sex', 'Pclass', 'Survived']).size()\n",
    "prob2 = total_prob / total\n",
    "prob2 = prob2.unstack()\n",
    "prob2 = prob2.rename(columns={0: 'Not Survived', 1: 'Survived'})\n",
    "prob2"
   ]
  },
  {
   "cell_type": "markdown",
   "id": "1c75c0ce-ca24-410e-b2bc-4fec1a689cf8",
   "metadata": {
    "tags": []
   },
   "source": [
    "## Part II: More insights on the data (3 points)\n",
    "\n",
    "Present 3 insights about the dataset, each of them relating at least 3 different variables, and support them by code and numbers. Possible examples:\n",
    "\n",
    "- \"**Men** aged **less than 18** were more/less likely to **survive** than the average passenger\" (Sex, Age, Survival)\n",
    "- \"**Women** with **no siblings or spouses** paid on average a cheaper/pricier **ticket** than the average woman\" (Sex, SibSp, Fare)\n",
    "- \"**Men** with a **title other than Mr.** were more/less likely to have a known (i.e. non-missing) **cabin** than the average man\" (Sex, Name, Cabin)\n",
    "\n",
    "(Using these exact examples is valid, but awards fewer points than proposing original insights)\n",
    "\n",
    "_Hint: If you want to work with lists and dictionaries rather than pandas objects, you can do_\n",
    "\n",
    "```python\n",
    "recs = df.to_dict(orient=\"records\")\n",
    "```"
   ]
  },
  {
   "cell_type": "markdown",
   "id": "c1747412",
   "metadata": {},
   "source": [
    "Data description:\n",
    "Survival - Survival (0 = No; 1 = Yes)\n",
    "Pclass - Passenger Class (1 = 1st; 2 = 2nd; 3 = 3rd)\n",
    "Name - Name\n",
    "Sex - Sex\n",
    "Age - Age\n",
    "Sibsp - Number of Siblings/Spouses Aboard\n",
    "Parch - Number of Parents/Children Aboard\n",
    "Ticket - Ticket Number\n",
    "Fare - Passenger Fare\n",
    "Cabin - Cabin\n",
    "Embarked - Port of Embarkation (C = Cherbourg; Q = Queenstown; S = Southampton)"
   ]
  },
  {
   "cell_type": "code",
   "execution_count": 11,
   "id": "19b1bec0-e2df-4502-a193-5b441b6457d8",
   "metadata": {
    "ExecuteTime": {
     "end_time": "2023-07-04T14:54:22.933248300Z",
     "start_time": "2023-07-04T14:54:22.888120Z"
    }
   },
   "outputs": [
    {
     "data": {
      "text/plain": "             Survived  Pclass                     Name   Sex   Age  SibSp  \\\nPassengerId                                                                 \n1                   0       3  Braund, Mr. Owen Harris  male  22.0      1   \n\n             Parch     Ticket  Fare Cabin Embarked  \nPassengerId                                         \n1                0  A/5 21171  7.25   NaN        S  ",
      "text/html": "<div>\n<style scoped>\n    .dataframe tbody tr th:only-of-type {\n        vertical-align: middle;\n    }\n\n    .dataframe tbody tr th {\n        vertical-align: top;\n    }\n\n    .dataframe thead th {\n        text-align: right;\n    }\n</style>\n<table border=\"1\" class=\"dataframe\">\n  <thead>\n    <tr style=\"text-align: right;\">\n      <th></th>\n      <th>Survived</th>\n      <th>Pclass</th>\n      <th>Name</th>\n      <th>Sex</th>\n      <th>Age</th>\n      <th>SibSp</th>\n      <th>Parch</th>\n      <th>Ticket</th>\n      <th>Fare</th>\n      <th>Cabin</th>\n      <th>Embarked</th>\n    </tr>\n    <tr>\n      <th>PassengerId</th>\n      <th></th>\n      <th></th>\n      <th></th>\n      <th></th>\n      <th></th>\n      <th></th>\n      <th></th>\n      <th></th>\n      <th></th>\n      <th></th>\n      <th></th>\n    </tr>\n  </thead>\n  <tbody>\n    <tr>\n      <th>1</th>\n      <td>0</td>\n      <td>3</td>\n      <td>Braund, Mr. Owen Harris</td>\n      <td>male</td>\n      <td>22.0</td>\n      <td>1</td>\n      <td>0</td>\n      <td>A/5 21171</td>\n      <td>7.25</td>\n      <td>NaN</td>\n      <td>S</td>\n    </tr>\n  </tbody>\n</table>\n</div>"
     },
     "execution_count": 11,
     "metadata": {},
     "output_type": "execute_result"
    }
   ],
   "source": [
    "df.head(1)"
   ]
  },
  {
   "cell_type": "code",
   "execution_count": 13,
   "outputs": [
    {
     "data": {
      "text/plain": "Survived                 0          1\nEmbarked Sex                         \nC        female   1.010101   7.182941\n         male     7.407407   3.254770\nQ        female   1.010101   3.030303\n         male     4.264871   0.336700\nS        female   7.070707  15.712682\n         male    40.852974   8.641975",
      "text/html": "<div>\n<style scoped>\n    .dataframe tbody tr th:only-of-type {\n        vertical-align: middle;\n    }\n\n    .dataframe tbody tr th {\n        vertical-align: top;\n    }\n\n    .dataframe thead th {\n        text-align: right;\n    }\n</style>\n<table border=\"1\" class=\"dataframe\">\n  <thead>\n    <tr style=\"text-align: right;\">\n      <th></th>\n      <th>Survived</th>\n      <th>0</th>\n      <th>1</th>\n    </tr>\n    <tr>\n      <th>Embarked</th>\n      <th>Sex</th>\n      <th></th>\n      <th></th>\n    </tr>\n  </thead>\n  <tbody>\n    <tr>\n      <th rowspan=\"2\" valign=\"top\">C</th>\n      <th>female</th>\n      <td>1.010101</td>\n      <td>7.182941</td>\n    </tr>\n    <tr>\n      <th>male</th>\n      <td>7.407407</td>\n      <td>3.254770</td>\n    </tr>\n    <tr>\n      <th rowspan=\"2\" valign=\"top\">Q</th>\n      <th>female</th>\n      <td>1.010101</td>\n      <td>3.030303</td>\n    </tr>\n    <tr>\n      <th>male</th>\n      <td>4.264871</td>\n      <td>0.336700</td>\n    </tr>\n    <tr>\n      <th rowspan=\"2\" valign=\"top\">S</th>\n      <th>female</th>\n      <td>7.070707</td>\n      <td>15.712682</td>\n    </tr>\n    <tr>\n      <th>male</th>\n      <td>40.852974</td>\n      <td>8.641975</td>\n    </tr>\n  </tbody>\n</table>\n</div>"
     },
     "execution_count": 13,
     "metadata": {},
     "output_type": "execute_result"
    }
   ],
   "source": [
    "embarked = df.groupby(['Embarked', 'Sex', 'Survived']).size()\n",
    "embarked = (embarked / total ) * 100\n",
    "embarked = embarked.unstack()\n",
    "\n",
    "embarked"
   ],
   "metadata": {
    "collapsed": false,
    "ExecuteTime": {
     "end_time": "2023-07-04T14:54:37.435383300Z",
     "start_time": "2023-07-04T14:54:37.389055400Z"
    }
   }
  },
  {
   "cell_type": "code",
   "execution_count": 15,
   "outputs": [
    {
     "data": {
      "text/plain": "Survived              0          1      Total\n(C, female)    1.010101   7.182941  16.386083\n(C, male)      7.407407   3.254770  21.324355\n(Q, female)    1.010101   3.030303   8.080808\n(Q, male)      4.264871   0.336700   9.203143\n(S, female)    7.070707  15.712682  45.566779\n(S, male)     40.852974   8.641975  98.989899\nTotal        123.232323  76.318743  99.775533",
      "text/html": "<div>\n<style scoped>\n    .dataframe tbody tr th:only-of-type {\n        vertical-align: middle;\n    }\n\n    .dataframe tbody tr th {\n        vertical-align: top;\n    }\n\n    .dataframe thead th {\n        text-align: right;\n    }\n</style>\n<table border=\"1\" class=\"dataframe\">\n  <thead>\n    <tr style=\"text-align: right;\">\n      <th>Survived</th>\n      <th>0</th>\n      <th>1</th>\n      <th>Total</th>\n    </tr>\n  </thead>\n  <tbody>\n    <tr>\n      <th>(C, female)</th>\n      <td>1.010101</td>\n      <td>7.182941</td>\n      <td>16.386083</td>\n    </tr>\n    <tr>\n      <th>(C, male)</th>\n      <td>7.407407</td>\n      <td>3.254770</td>\n      <td>21.324355</td>\n    </tr>\n    <tr>\n      <th>(Q, female)</th>\n      <td>1.010101</td>\n      <td>3.030303</td>\n      <td>8.080808</td>\n    </tr>\n    <tr>\n      <th>(Q, male)</th>\n      <td>4.264871</td>\n      <td>0.336700</td>\n      <td>9.203143</td>\n    </tr>\n    <tr>\n      <th>(S, female)</th>\n      <td>7.070707</td>\n      <td>15.712682</td>\n      <td>45.566779</td>\n    </tr>\n    <tr>\n      <th>(S, male)</th>\n      <td>40.852974</td>\n      <td>8.641975</td>\n      <td>98.989899</td>\n    </tr>\n    <tr>\n      <th>Total</th>\n      <td>123.232323</td>\n      <td>76.318743</td>\n      <td>99.775533</td>\n    </tr>\n  </tbody>\n</table>\n</div>"
     },
     "execution_count": 15,
     "metadata": {},
     "output_type": "execute_result"
    }
   ],
   "source": [
    "row_totals = embarked.sum(axis=1)\n",
    "column_totals = embarked.sum()\n",
    "\n",
    "embarked.loc['Total'] = column_totals\n",
    "embarked['Total'] = row_totals\n",
    "embarked"
   ],
   "metadata": {
    "collapsed": false,
    "ExecuteTime": {
     "end_time": "2023-07-04T14:55:34.993781300Z",
     "start_time": "2023-07-04T14:55:34.942587600Z"
    }
   }
  },
  {
   "cell_type": "code",
   "execution_count": 16,
   "outputs": [
    {
     "data": {
      "text/plain": "Survived          0          1\nEmbarked                      \nC         44.642857  55.357143\nQ         61.038961  38.961039\nS         66.304348  33.695652",
      "text/html": "<div>\n<style scoped>\n    .dataframe tbody tr th:only-of-type {\n        vertical-align: middle;\n    }\n\n    .dataframe tbody tr th {\n        vertical-align: top;\n    }\n\n    .dataframe thead th {\n        text-align: right;\n    }\n</style>\n<table border=\"1\" class=\"dataframe\">\n  <thead>\n    <tr style=\"text-align: right;\">\n      <th>Survived</th>\n      <th>0</th>\n      <th>1</th>\n    </tr>\n    <tr>\n      <th>Embarked</th>\n      <th></th>\n      <th></th>\n    </tr>\n  </thead>\n  <tbody>\n    <tr>\n      <th>C</th>\n      <td>44.642857</td>\n      <td>55.357143</td>\n    </tr>\n    <tr>\n      <th>Q</th>\n      <td>61.038961</td>\n      <td>38.961039</td>\n    </tr>\n    <tr>\n      <th>S</th>\n      <td>66.304348</td>\n      <td>33.695652</td>\n    </tr>\n  </tbody>\n</table>\n</div>"
     },
     "execution_count": 16,
     "metadata": {},
     "output_type": "execute_result"
    }
   ],
   "source": [
    "embarked = df.groupby(['Embarked', 'Survived']).size().unstack()\n",
    "total_per_embarked = df.groupby('Embarked').size()\n",
    "embarked_probability = embarked.apply(lambda x: (x / total_per_embarked[x.name]) * 100, axis=1)\n",
    "embarked_probability"
   ],
   "metadata": {
    "collapsed": false,
    "ExecuteTime": {
     "end_time": "2023-07-02T19:14:06.467646800Z",
     "start_time": "2023-07-02T19:14:06.313985900Z"
    }
   }
  },
  {
   "cell_type": "code",
   "execution_count": 16,
   "outputs": [
    {
     "name": "stdout",
     "output_type": "stream",
     "text": [
      "After a research on the Internet looking for the documentation of the dataset, we know the following:\n",
      "\n",
      "- Data description:\n",
      "    * Survival - Survival (0 = No; 1 = Yes)\n",
      "    * Pclass - Passenger Class (1 = 1st; 2 = 2nd; 3 = 3rd)\n",
      "    * Name - Name\n",
      "    * Sex - Sex\n",
      "    * Age - Age\n",
      "    * Sibsp - Number of Siblings/Spouses Aboard\n",
      "    * Parch - Number of Parents/Children Aboard\n",
      "    * Ticket - Ticket Number\n",
      "    * Fare - Passenger Fare\n",
      "    * Cabin - Cabin\n",
      "    * Embarked - Port of Embarkation (C = Cherbourg; Q = Queenstown; S = Southampton)\n"
     ]
    }
   ],
   "source": [
    "print('After a research on the Internet looking for the documentation of the dataset, we know the following:')\n",
    "print('''\n",
    "- Data description:\n",
    "    * Survival - Survival (0 = No; 1 = Yes)\n",
    "    * Pclass - Passenger Class (1 = 1st; 2 = 2nd; 3 = 3rd)\n",
    "    * Name - Name\n",
    "    * Sex - Sex\n",
    "    * Age - Age\n",
    "    * Sibsp - Number of Siblings/Spouses Aboard\n",
    "    * Parch - Number of Parents/Children Aboard\n",
    "    * Ticket - Ticket Number\n",
    "    * Fare - Passenger Fare\n",
    "    * Cabin - Cabin\n",
    "    * Embarked - Port of Embarkation (C = Cherbourg; Q = Queenstown; S = Southampton)''')"
   ],
   "metadata": {
    "collapsed": false,
    "ExecuteTime": {
     "end_time": "2023-07-04T14:56:36.945781300Z",
     "start_time": "2023-07-04T14:56:36.873970100Z"
    }
   }
  },
  {
   "cell_type": "code",
   "execution_count": 17,
   "outputs": [
    {
     "name": "stdout",
     "output_type": "stream",
     "text": [
      "Insight 1:\n",
      " After analyzing the relation between Port of Embarkation, Sex and Survival, we conclude:\n",
      " - Overall Survival: Survival rates were highest for passengers who embarked from Cherbourg (55.36%), followed by Queenstown (38.96%) and Southampton (33.70%).\n",
      " - Gender Influence: In all ports, female passengers had a higher survival rate than males.\n",
      " - Port & Gender: Cherbourg had the highest survival rates for both genders, while Southampton had the most passengers.\n"
     ]
    }
   ],
   "source": [
    "print(\"Insight 1:\")\n",
    "print(\" After analyzing the relation between Port of Embarkation, Sex and Survival, we conclude:\")\n",
    "print(\" - Overall Survival: Survival rates were highest for passengers who embarked from Cherbourg (55.36%), followed by Queenstown (38.96%) and Southampton (33.70%).\")\n",
    "print(\" - Gender Influence: In all ports, female passengers had a higher survival rate than males.\")\n",
    "print(\" - Port & Gender: Cherbourg had the highest survival rates for both genders, while Southampton had the most passengers.\")"
   ],
   "metadata": {
    "collapsed": false,
    "ExecuteTime": {
     "end_time": "2023-07-04T14:56:42.897581800Z",
     "start_time": "2023-07-04T14:56:42.882064400Z"
    }
   }
  },
  {
   "cell_type": "code",
   "execution_count": 21,
   "outputs": [],
   "source": [
    "df2 = df.copy()\n",
    "df2['Surname'] = df2['Name'].str.split(',').str[0].str.strip()\n",
    "df2['FamilyMembers'] = df2['SibSp'] + df2['Parch']\n",
    "df2.sort_values(by=['Surname', 'FamilyMembers'], inplace=True)\n",
    "\n",
    "family_tree = pd.DataFrame(columns=['Father', 'Mother', 'Siblings', 'Survival %'])\n",
    "\n",
    "all_survived = all_died = father_died = mother_died = father_mother_died = siblings_survived = mother_father_survived_siblings_not = 0\n",
    "no_siblings = no_parents = 0\n",
    "\n",
    "for surname, group in df2.groupby('Surname'):\n",
    "    father = mother = siblings = None\n",
    "\n",
    "    male_members = group[group['Sex'] == 'male']\n",
    "    if not male_members.empty:\n",
    "        father = male_members.iloc[0]['Name']\n",
    "        father_survival_percentage = male_members['Survived'].mean() * 100\n",
    "\n",
    "    female_members = group[group['Sex'] == 'female']\n",
    "    if not female_members.empty:\n",
    "        mother = female_members.iloc[0]['Name']\n",
    "        mother_survival_percentage = female_members['Survived'].mean() * 100\n",
    "\n",
    "    sibling_members = group[group['Age'].notna()].sort_values(by='Age')\n",
    "    if len(sibling_members) > 0:\n",
    "        siblings = sibling_members['Name'].tolist()\n",
    "        siblings_survival_percentage = sibling_members['Survived'].mean() * 100\n",
    "\n",
    "    family_survival_percentage = group['Survived'].mean() * 100\n",
    "\n",
    "    family_tree.loc[surname] = [father, mother, siblings, family_survival_percentage]\n",
    "\n",
    "    if family_survival_percentage == 100:\n",
    "        all_survived += 1\n",
    "    elif family_survival_percentage == 0:\n",
    "        all_died += 1\n",
    "    elif father and father_survival_percentage == 0:\n",
    "        father_died += 1\n",
    "    elif mother and mother_survival_percentage == 0:\n",
    "        mother_died += 1\n",
    "    elif father and mother and father_survival_percentage == 0 and mother_survival_percentage == 0 and siblings_survival_percentage == 100:\n",
    "        father_mother_died += 1\n",
    "    elif mother and father_survival_percentage == 100 and mother_survival_percentage == 100 and siblings_survival_percentage < 100:\n",
    "        mother_father_survived_siblings_not += 1\n",
    "    elif siblings_survival_percentage == 100:\n",
    "        siblings_survived += 1\n",
    "\n",
    "    if len(sibling_members) == 0:\n",
    "        no_siblings += 1\n",
    "\n",
    "    if len(male_members) == 0 and len(female_members) == 0:\n",
    "        no_parents += 1"
   ],
   "metadata": {
    "collapsed": false,
    "ExecuteTime": {
     "end_time": "2023-07-04T15:11:29.171159Z",
     "start_time": "2023-07-04T15:11:27.895798Z"
    }
   }
  },
  {
   "cell_type": "code",
   "execution_count": 22,
   "outputs": [
    {
     "data": {
      "text/plain": "                                        Father  \\\nAbbing                     Abbing, Mr. Anthony   \nAbbott             Abbott, Mr. Rossmore Edward   \nAbelson                    Abelson, Mr. Samuel   \nAdahl           Adahl, Mr. Mauritz Nils Martin   \nAdams                          Adams, Mr. John   \n...                                        ...   \nde Mulder              de Mulder, Mr. Theodore   \nde Pelsmaeker        de Pelsmaeker, Mr. Alfons   \ndel Carlo            del Carlo, Mr. Sebastiano   \nvan Billiard   van Billiard, Mr. Austin Blyler   \nvan Melkebeke      van Melkebeke, Mr. Philemon   \n\n                                              Mother  \\\nAbbing                                          None   \nAbbott              Abbott, Mrs. Stanton (Rosa Hunt)   \nAbelson        Abelson, Mrs. Samuel (Hannah Wizosky)   \nAdahl                                           None   \nAdams                                           None   \n...                                              ...   \nde Mulder                                       None   \nde Pelsmaeker                                   None   \ndel Carlo                                       None   \nvan Billiard                                    None   \nvan Melkebeke                                   None   \n\n                                                        Siblings  Survival %  \nAbbing                                     [Abbing, Mr. Anthony]         0.0  \nAbbott         [Abbott, Mr. Rossmore Edward, Abbott, Mrs. Sta...        50.0  \nAbelson        [Abelson, Mrs. Samuel (Hannah Wizosky), Abelso...        50.0  \nAdahl                           [Adahl, Mr. Mauritz Nils Martin]         0.0  \nAdams                                          [Adams, Mr. John]         0.0  \n...                                                          ...         ...  \nde Mulder                              [de Mulder, Mr. Theodore]       100.0  \nde Pelsmaeker                        [de Pelsmaeker, Mr. Alfons]         0.0  \ndel Carlo                            [del Carlo, Mr. Sebastiano]         0.0  \nvan Billiard                   [van Billiard, Mr. Austin Blyler]         0.0  \nvan Melkebeke                                               None         0.0  \n\n[667 rows x 4 columns]",
      "text/html": "<div>\n<style scoped>\n    .dataframe tbody tr th:only-of-type {\n        vertical-align: middle;\n    }\n\n    .dataframe tbody tr th {\n        vertical-align: top;\n    }\n\n    .dataframe thead th {\n        text-align: right;\n    }\n</style>\n<table border=\"1\" class=\"dataframe\">\n  <thead>\n    <tr style=\"text-align: right;\">\n      <th></th>\n      <th>Father</th>\n      <th>Mother</th>\n      <th>Siblings</th>\n      <th>Survival %</th>\n    </tr>\n  </thead>\n  <tbody>\n    <tr>\n      <th>Abbing</th>\n      <td>Abbing, Mr. Anthony</td>\n      <td>None</td>\n      <td>[Abbing, Mr. Anthony]</td>\n      <td>0.0</td>\n    </tr>\n    <tr>\n      <th>Abbott</th>\n      <td>Abbott, Mr. Rossmore Edward</td>\n      <td>Abbott, Mrs. Stanton (Rosa Hunt)</td>\n      <td>[Abbott, Mr. Rossmore Edward, Abbott, Mrs. Sta...</td>\n      <td>50.0</td>\n    </tr>\n    <tr>\n      <th>Abelson</th>\n      <td>Abelson, Mr. Samuel</td>\n      <td>Abelson, Mrs. Samuel (Hannah Wizosky)</td>\n      <td>[Abelson, Mrs. Samuel (Hannah Wizosky), Abelso...</td>\n      <td>50.0</td>\n    </tr>\n    <tr>\n      <th>Adahl</th>\n      <td>Adahl, Mr. Mauritz Nils Martin</td>\n      <td>None</td>\n      <td>[Adahl, Mr. Mauritz Nils Martin]</td>\n      <td>0.0</td>\n    </tr>\n    <tr>\n      <th>Adams</th>\n      <td>Adams, Mr. John</td>\n      <td>None</td>\n      <td>[Adams, Mr. John]</td>\n      <td>0.0</td>\n    </tr>\n    <tr>\n      <th>...</th>\n      <td>...</td>\n      <td>...</td>\n      <td>...</td>\n      <td>...</td>\n    </tr>\n    <tr>\n      <th>de Mulder</th>\n      <td>de Mulder, Mr. Theodore</td>\n      <td>None</td>\n      <td>[de Mulder, Mr. Theodore]</td>\n      <td>100.0</td>\n    </tr>\n    <tr>\n      <th>de Pelsmaeker</th>\n      <td>de Pelsmaeker, Mr. Alfons</td>\n      <td>None</td>\n      <td>[de Pelsmaeker, Mr. Alfons]</td>\n      <td>0.0</td>\n    </tr>\n    <tr>\n      <th>del Carlo</th>\n      <td>del Carlo, Mr. Sebastiano</td>\n      <td>None</td>\n      <td>[del Carlo, Mr. Sebastiano]</td>\n      <td>0.0</td>\n    </tr>\n    <tr>\n      <th>van Billiard</th>\n      <td>van Billiard, Mr. Austin Blyler</td>\n      <td>None</td>\n      <td>[van Billiard, Mr. Austin Blyler]</td>\n      <td>0.0</td>\n    </tr>\n    <tr>\n      <th>van Melkebeke</th>\n      <td>van Melkebeke, Mr. Philemon</td>\n      <td>None</td>\n      <td>None</td>\n      <td>0.0</td>\n    </tr>\n  </tbody>\n</table>\n<p>667 rows × 4 columns</p>\n</div>"
     },
     "execution_count": 22,
     "metadata": {},
     "output_type": "execute_result"
    }
   ],
   "source": [
    "family_tree"
   ],
   "metadata": {
    "collapsed": false,
    "ExecuteTime": {
     "end_time": "2023-07-04T15:11:30.553677Z",
     "start_time": "2023-07-04T15:11:30.529558400Z"
    }
   }
  },
  {
   "cell_type": "code",
   "execution_count": 23,
   "outputs": [
    {
     "name": "stdout",
     "output_type": "stream",
     "text": [
      "Insight 2:\n",
      " After analyzing the relation between Surname, SibSp Parch, we conclude that:\n",
      "\n",
      " - Total number of passengers: 891\n",
      " - Total number of families: 667\n",
      " - Number of families where all members survived: 224\n",
      " - Number of families where all members died: 387\n",
      " - Number of families where the father died: 38\n",
      " - Number of families where the mother died: 2\n",
      " - Number of families where the father and mother died, and siblings survived: 0\n",
      " - Number of families where the mother and father survived, but siblings did not: 0\n",
      " - Number of families without siblings: 132\n",
      " - Number of children without parents: 0\n"
     ]
    }
   ],
   "source": [
    "print(\"Insight 2:\")\n",
    "print(\" After analyzing the relation between Surname, SibSp Parch, we conclude that:\\n\")\n",
    "print(\" - Total number of passengers:\", total)\n",
    "print(\" - Total number of families:\", len(family_tree))\n",
    "print(\" - Number of families where all members survived:\", all_survived)\n",
    "print(\" - Number of families where all members died:\", all_died)\n",
    "print(\" - Number of families where the father died:\", father_died)\n",
    "print(\" - Number of families where the mother died:\", mother_died)\n",
    "print(\" - Number of families where the father and mother died, and siblings survived:\", father_mother_died)\n",
    "print(\" - Number of families where the mother and father survived, but siblings did not:\", mother_father_survived_siblings_not)\n",
    "print(\" - Number of families without siblings:\", no_siblings)\n",
    "print(\" - Number of children without parents:\", no_parents)"
   ],
   "metadata": {
    "collapsed": false,
    "ExecuteTime": {
     "end_time": "2023-07-04T15:11:36.756771400Z",
     "start_time": "2023-07-04T15:11:36.747152100Z"
    }
   }
  },
  {
   "cell_type": "code",
   "execution_count": 25,
   "outputs": [
    {
     "data": {
      "text/plain": "Embarked  Pclass  Sex   \nC         1       female    115.640309\n                  male       93.536707\n          2       female     25.268457\n                  male       25.421250\n          3       female     14.694926\n                  male        9.352237\nQ         1       female     90.000000\n                  male       90.000000\n          2       female     12.350000\n                  male       12.350000\n          3       female     10.307833\n                  male       11.924251\nS         1       female     99.026910\n                  male       52.949947\n          2       female     21.912687\n                  male       19.232474\n          3       female     18.670077\n                  male       13.307149\nName: Fare, dtype: float64"
     },
     "execution_count": 25,
     "metadata": {},
     "output_type": "execute_result"
    }
   ],
   "source": [
    "group = df.groupby(['Embarked', 'Pclass', 'Sex'])['Fare'].mean()\n",
    "group"
   ],
   "metadata": {
    "collapsed": false,
    "ExecuteTime": {
     "end_time": "2023-07-04T15:12:15.831003800Z",
     "start_time": "2023-07-04T15:12:15.790898900Z"
    }
   }
  },
  {
   "cell_type": "code",
   "execution_count": 28,
   "outputs": [
    {
     "data": {
      "text/plain": "Embarked  Pclass\nC         1         23.630939\n          2         -0.601044\n          3         57.127388\nQ         1          0.000000\n          2          0.000000\n          3        -13.555719\nS         1         87.019849\n          2         13.935869\n          3         40.301106\nName: Fare, dtype: float64"
     },
     "execution_count": 28,
     "metadata": {},
     "output_type": "execute_result"
    }
   ],
   "source": [
    "female_fares = group.loc[:, :, 'female']\n",
    "male_fares = group.loc[:, :, 'male']\n",
    "\n",
    "percentage_difference = (female_fares - male_fares) / male_fares * 100\n",
    "percentage_difference"
   ],
   "metadata": {
    "collapsed": false,
    "ExecuteTime": {
     "end_time": "2023-07-04T15:14:58.550702600Z",
     "start_time": "2023-07-04T15:14:58.492673200Z"
    }
   }
  },
  {
   "cell_type": "code",
   "execution_count": 30,
   "outputs": [
    {
     "name": "stdout",
     "output_type": "stream",
     "text": [
      "Insight 3:\n",
      " After analyzing the relation between Port Embarked, Sex, Pclass and Fares, we conclude that:\n",
      "\n",
      " - Cherbourg: Women in 1st and 3rd class paid 23.63% and 57.13% more respectively, while in 2nd class they paid 0.60% less than men.\n",
      " - Queenstown: Fares were equal for men and women in 1st and 2nd class, but women in 3rd class paid 13.56% less.\n",
      " - Southampton: Women paid more across all classes, with the highest difference in 1st class (87.02%).\n"
     ]
    }
   ],
   "source": [
    "print(\"Insight 3:\")\n",
    "print(\" After analyzing the relation between Port Embarked, Sex, Pclass and Fares, we conclude that:\\n\")\n",
    "print(\" - Cherbourg: Women in 1st and 3rd class paid 23.63% and 57.13% more respectively, while in 2nd class they paid 0.60% less than men.\")\n",
    "print(\" - Queenstown: Fares were equal for men and women in 1st and 2nd class, but women in 3rd class paid 13.56% less.\")\n",
    "print(\" - Southampton: Women paid more across all classes, with the highest difference in 1st class (87.02%).\")"
   ],
   "metadata": {
    "collapsed": false,
    "ExecuteTime": {
     "end_time": "2023-07-04T15:15:01.872641400Z",
     "start_time": "2023-07-04T15:15:01.842521200Z"
    }
   }
  }
 ],
 "metadata": {
  "kernelspec": {
   "display_name": "Python 3 (ipykernel)",
   "language": "python",
   "name": "python3"
  },
  "language_info": {
   "codemirror_mode": {
    "name": "ipython",
    "version": 3
   },
   "file_extension": ".py",
   "mimetype": "text/x-python",
   "name": "python",
   "nbconvert_exporter": "python",
   "pygments_lexer": "ipython3",
   "version": "3.10.11"
  }
 },
 "nbformat": 4,
 "nbformat_minor": 5
}
