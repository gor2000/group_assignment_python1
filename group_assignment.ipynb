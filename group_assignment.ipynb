{
 "cells": [
  {
   "cell_type": "markdown",
   "id": "c014f311-2159-4b24-be0a-a4c2d2734c98",
   "metadata": {},
   "source": [
    "## Part I: Exploratory analysis (3 points)\n",
    "\n",
    "Read the dataset correctly using pandas, using an appropriate column as index (1 point)"
   ]
  },
  {
   "cell_type": "code",
   "execution_count": 2,
   "id": "05e90c97-716a-49d2-9470-886fb62d214e",
   "metadata": {
    "ExecuteTime": {
     "end_time": "2023-07-01T16:21:24.631510400Z",
     "start_time": "2023-07-01T16:21:24.606008300Z"
    }
   },
   "outputs": [
    {
     "data": {
      "text/plain": "             Survived  Pclass  \\\nPassengerId                     \n1                   0       3   \n2                   1       1   \n3                   1       3   \n4                   1       1   \n5                   0       3   \n\n                                                          Name     Sex   Age  \\\nPassengerId                                                                    \n1                                      Braund, Mr. Owen Harris    male  22.0   \n2            Cumings, Mrs. John Bradley (Florence Briggs Th...  female  38.0   \n3                                       Heikkinen, Miss. Laina  female  26.0   \n4                 Futrelle, Mrs. Jacques Heath (Lily May Peel)  female  35.0   \n5                                     Allen, Mr. William Henry    male  35.0   \n\n             SibSp  Parch            Ticket     Fare Cabin Embarked  \nPassengerId                                                          \n1                1      0         A/5 21171   7.2500   NaN        S  \n2                1      0          PC 17599  71.2833   C85        C  \n3                0      0  STON/O2. 3101282   7.9250   NaN        S  \n4                1      0            113803  53.1000  C123        S  \n5                0      0            373450   8.0500   NaN        S  ",
      "text/html": "<div>\n<style scoped>\n    .dataframe tbody tr th:only-of-type {\n        vertical-align: middle;\n    }\n\n    .dataframe tbody tr th {\n        vertical-align: top;\n    }\n\n    .dataframe thead th {\n        text-align: right;\n    }\n</style>\n<table border=\"1\" class=\"dataframe\">\n  <thead>\n    <tr style=\"text-align: right;\">\n      <th></th>\n      <th>Survived</th>\n      <th>Pclass</th>\n      <th>Name</th>\n      <th>Sex</th>\n      <th>Age</th>\n      <th>SibSp</th>\n      <th>Parch</th>\n      <th>Ticket</th>\n      <th>Fare</th>\n      <th>Cabin</th>\n      <th>Embarked</th>\n    </tr>\n    <tr>\n      <th>PassengerId</th>\n      <th></th>\n      <th></th>\n      <th></th>\n      <th></th>\n      <th></th>\n      <th></th>\n      <th></th>\n      <th></th>\n      <th></th>\n      <th></th>\n      <th></th>\n    </tr>\n  </thead>\n  <tbody>\n    <tr>\n      <th>1</th>\n      <td>0</td>\n      <td>3</td>\n      <td>Braund, Mr. Owen Harris</td>\n      <td>male</td>\n      <td>22.0</td>\n      <td>1</td>\n      <td>0</td>\n      <td>A/5 21171</td>\n      <td>7.2500</td>\n      <td>NaN</td>\n      <td>S</td>\n    </tr>\n    <tr>\n      <th>2</th>\n      <td>1</td>\n      <td>1</td>\n      <td>Cumings, Mrs. John Bradley (Florence Briggs Th...</td>\n      <td>female</td>\n      <td>38.0</td>\n      <td>1</td>\n      <td>0</td>\n      <td>PC 17599</td>\n      <td>71.2833</td>\n      <td>C85</td>\n      <td>C</td>\n    </tr>\n    <tr>\n      <th>3</th>\n      <td>1</td>\n      <td>3</td>\n      <td>Heikkinen, Miss. Laina</td>\n      <td>female</td>\n      <td>26.0</td>\n      <td>0</td>\n      <td>0</td>\n      <td>STON/O2. 3101282</td>\n      <td>7.9250</td>\n      <td>NaN</td>\n      <td>S</td>\n    </tr>\n    <tr>\n      <th>4</th>\n      <td>1</td>\n      <td>1</td>\n      <td>Futrelle, Mrs. Jacques Heath (Lily May Peel)</td>\n      <td>female</td>\n      <td>35.0</td>\n      <td>1</td>\n      <td>0</td>\n      <td>113803</td>\n      <td>53.1000</td>\n      <td>C123</td>\n      <td>S</td>\n    </tr>\n    <tr>\n      <th>5</th>\n      <td>0</td>\n      <td>3</td>\n      <td>Allen, Mr. William Henry</td>\n      <td>male</td>\n      <td>35.0</td>\n      <td>0</td>\n      <td>0</td>\n      <td>373450</td>\n      <td>8.0500</td>\n      <td>NaN</td>\n      <td>S</td>\n    </tr>\n  </tbody>\n</table>\n</div>"
     },
     "execution_count": 2,
     "metadata": {},
     "output_type": "execute_result"
    }
   ],
   "source": [
    "import pandas as pd\n",
    "\n",
    "df = pd.read_csv('train.csv', index_col='PassengerId')\n",
    "df.head()"
   ]
  },
  {
   "cell_type": "markdown",
   "id": "c855c092-90d9-49bd-ae14-8f85f124fdb1",
   "metadata": {},
   "source": [
    "Compute the percentage of survivors out of total number of passengers..."
   ]
  },
  {
   "cell_type": "code",
   "execution_count": 40,
   "id": "8f54fd98-5047-4a01-ab5b-dd5c9de130df",
   "metadata": {
    "ExecuteTime": {
     "end_time": "2023-07-01T16:43:01.682649800Z",
     "start_time": "2023-07-01T16:43:01.653627400Z"
    }
   },
   "outputs": [
    {
     "name": "stdout",
     "output_type": "stream",
     "text": [
      "Percentage of survivors: 38.38%\n"
     ]
    }
   ],
   "source": [
    "total = df.shape[0]\n",
    "survivors = df[df['Survived'] == 1].shape[0]\n",
    "survivors_per = survivors/total\n",
    "print(f\"Percentage of survivors: {round(survivors_per*100,2)}%\")"
   ]
  },
  {
   "cell_type": "markdown",
   "id": "d4cb8fb4-c9e3-44bf-b65c-0c124bc1ae7e",
   "metadata": {},
   "source": [
    "...and the percentage of men and women out of total number of passengers (0.5 points)"
   ]
  },
  {
   "cell_type": "code",
   "execution_count": 4,
   "id": "9e6dcd68-9834-4006-84b1-5e4a3e178650",
   "metadata": {
    "ExecuteTime": {
     "end_time": "2023-07-01T16:21:27.918712700Z",
     "start_time": "2023-07-01T16:21:27.898709800Z"
    }
   },
   "outputs": [
    {
     "name": "stdout",
     "output_type": "stream",
     "text": [
      "Percentage of male: 64.76%\n",
      "Percentage of female: 35.24%\n"
     ]
    }
   ],
   "source": [
    "men = df[df['Sex'] == 'male'].shape[0]\n",
    "woman = df[df['Sex'] == 'female'].shape[0]\n",
    "men_per = men/total\n",
    "woman_per = woman/total\n",
    "print(f\"Percentage of male: {round(men_per*100,2)}%\")\n",
    "print(f\"Percentage of female: {round(woman_per*100,2)}%\")"
   ]
  },
  {
   "cell_type": "markdown",
   "id": "2c913e51-3aa0-449e-a323-e9954dc188b3",
   "metadata": {},
   "source": [
    "Compute the percentage of survivors by sex (i.e. the percentage of male passengers that survived and female passengers that survived)..."
   ]
  },
  {
   "cell_type": "code",
   "execution_count": 5,
   "id": "a64ef95b-fcf7-490a-aaaf-145bad652094",
   "metadata": {
    "ExecuteTime": {
     "end_time": "2023-07-01T16:21:29.975565500Z",
     "start_time": "2023-07-01T16:21:29.964594300Z"
    }
   },
   "outputs": [
    {
     "name": "stdout",
     "output_type": "stream",
     "text": [
      "Percentage of male passengers who survived: 18.89%\n",
      "Percentage of female passengers who survived: 74.2%\n"
     ]
    }
   ],
   "source": [
    "surv_men = df[(df['Sex'] == 'male') & (df['Survived'] == 1)].shape[0]\n",
    "surv_woman = df[(df['Sex'] == 'female') & (df['Survived'] == 1)].shape[0]\n",
    "\n",
    "surv_men_per = surv_men / men\n",
    "surv_woman_per = surv_woman / woman\n",
    "print(f\"Percentage of male passengers who survived: {round(surv_men_per*100,2)}%\")\n",
    "print(f\"Percentage of female passengers who survived: {round(surv_woman_per*100,2)}%\")"
   ]
  },
  {
   "cell_type": "markdown",
   "id": "8928d6c0-d642-468f-948b-06492052a0cc",
   "metadata": {},
   "source": [
    "...and the sex distribution of survivors (i.e. percentage of survivors that were men and percentage of survivors that were women) (0.5 points)"
   ]
  },
  {
   "cell_type": "code",
   "execution_count": 6,
   "id": "ee65ca0f-ebea-4be3-a9bc-e2d8d6766c48",
   "metadata": {
    "ExecuteTime": {
     "end_time": "2023-07-01T16:21:36.447739400Z",
     "start_time": "2023-07-01T16:21:36.434543300Z"
    }
   },
   "outputs": [
    {
     "name": "stdout",
     "output_type": "stream",
     "text": [
      "Percentage of survivors who were men: 31.87%\n",
      "Percentage of survivors who were women: 68.13%\n"
     ]
    }
   ],
   "source": [
    "male_surv_per = (surv_men / survivors)\n",
    "female_surv_per = (surv_woman / survivors)\n",
    "print(f\"Percentage of survivors who were men: {round(male_surv_per * 100, 2)}%\")\n",
    "print(f\"Percentage of survivors who were women: {round(female_surv_per * 100, 2)}%\")"
   ]
  },
  {
   "cell_type": "markdown",
   "id": "cb3c809c-2d2e-4b0f-bdfb-a49e1f6a5ade",
   "metadata": {},
   "source": [
    "Display in a 2 x 2 DataFrame the probability of being male/female and surviving/not surviving (0.5 points)\n",
    "\n",
    "One possible option:\n",
    "\n",
    "|            | **Survived**      | **Not survived**      |\n",
    "|------------|-------------------|-----------------------|\n",
    "| **Male**   | Male & Survived   | Male & Not survived   |\n",
    "| **Female** | Female & Survived | Female & Not survived |\n",
    "\n",
    "Notice that the sum of all values in the table above should be 1 (or 100 %)."
   ]
  },
  {
   "cell_type": "code",
   "execution_count": 7,
   "id": "36112d8b-0c7a-4417-bcc3-302eed4515b8",
   "metadata": {
    "ExecuteTime": {
     "end_time": "2023-07-01T16:21:39.411271300Z",
     "start_time": "2023-07-01T16:21:39.379131200Z"
    }
   },
   "outputs": [
    {
     "data": {
      "text/plain": "Survived  Not Survived  Survived\nSex                             \nfemale        0.090909  0.261504\nmale          0.525253  0.122334",
      "text/html": "<div>\n<style scoped>\n    .dataframe tbody tr th:only-of-type {\n        vertical-align: middle;\n    }\n\n    .dataframe tbody tr th {\n        vertical-align: top;\n    }\n\n    .dataframe thead th {\n        text-align: right;\n    }\n</style>\n<table border=\"1\" class=\"dataframe\">\n  <thead>\n    <tr style=\"text-align: right;\">\n      <th>Survived</th>\n      <th>Not Survived</th>\n      <th>Survived</th>\n    </tr>\n    <tr>\n      <th>Sex</th>\n      <th></th>\n      <th></th>\n    </tr>\n  </thead>\n  <tbody>\n    <tr>\n      <th>female</th>\n      <td>0.090909</td>\n      <td>0.261504</td>\n    </tr>\n    <tr>\n      <th>male</th>\n      <td>0.525253</td>\n      <td>0.122334</td>\n    </tr>\n  </tbody>\n</table>\n</div>"
     },
     "execution_count": 7,
     "metadata": {},
     "output_type": "execute_result"
    }
   ],
   "source": [
    "sex_and_survived = df.groupby(['Sex', 'Survived']).size()\n",
    "\n",
    "prob = sex_and_survived / total\n",
    "\n",
    "prob = prob.unstack()\n",
    "prob = prob.rename(columns={0: 'Not Survived', 1: 'Survived'})\n",
    "prob"
   ]
  },
  {
   "cell_type": "markdown",
   "id": "ec2b4661-8cb1-4551-8c9a-ffb4ab4ea138",
   "metadata": {},
   "source": [
    "Display in a DataFrame the probability of survival/not survival of all combinations of sex and class (0.5 points)\n",
    "\n",
    "One possible option:\n",
    "\n",
    "|            |   | **Survived**              | **Not survived** |\n",
    "|------------|---|---------------------------|------------------|\n",
    "| **Male**   | 1 | Male & Survived & Class 1 | ...              |\n",
    "|            | 2 | Male & Survived & Class 2 | ...              |\n",
    "|            | 3 | Male & Survived & Class 3 | ...              |\n",
    "| **Female** | 1 | ...                       | ...              |\n",
    "|            | 2 | ...                       | ...              |\n",
    "|            | 3 | ...                       | ...              |\n",
    "\n",
    "Notice that the sum of all values in the table above should be 1 (or 100 %)."
   ]
  },
  {
   "cell_type": "code",
   "execution_count": 8,
   "id": "9fcf470d-ca4b-489e-be6b-86c526a6f315",
   "metadata": {
    "ExecuteTime": {
     "end_time": "2023-07-01T16:21:42.744545600Z",
     "start_time": "2023-07-01T16:21:42.726490Z"
    }
   },
   "outputs": [
    {
     "data": {
      "text/plain": "Survived       Not Survived  Survived\nSex    Pclass                        \nfemale 1           0.003367  0.102132\n       2           0.006734  0.078563\n       3           0.080808  0.080808\nmale   1           0.086420  0.050505\n       2           0.102132  0.019080\n       3           0.336700  0.052750",
      "text/html": "<div>\n<style scoped>\n    .dataframe tbody tr th:only-of-type {\n        vertical-align: middle;\n    }\n\n    .dataframe tbody tr th {\n        vertical-align: top;\n    }\n\n    .dataframe thead th {\n        text-align: right;\n    }\n</style>\n<table border=\"1\" class=\"dataframe\">\n  <thead>\n    <tr style=\"text-align: right;\">\n      <th></th>\n      <th>Survived</th>\n      <th>Not Survived</th>\n      <th>Survived</th>\n    </tr>\n    <tr>\n      <th>Sex</th>\n      <th>Pclass</th>\n      <th></th>\n      <th></th>\n    </tr>\n  </thead>\n  <tbody>\n    <tr>\n      <th rowspan=\"3\" valign=\"top\">female</th>\n      <th>1</th>\n      <td>0.003367</td>\n      <td>0.102132</td>\n    </tr>\n    <tr>\n      <th>2</th>\n      <td>0.006734</td>\n      <td>0.078563</td>\n    </tr>\n    <tr>\n      <th>3</th>\n      <td>0.080808</td>\n      <td>0.080808</td>\n    </tr>\n    <tr>\n      <th rowspan=\"3\" valign=\"top\">male</th>\n      <th>1</th>\n      <td>0.086420</td>\n      <td>0.050505</td>\n    </tr>\n    <tr>\n      <th>2</th>\n      <td>0.102132</td>\n      <td>0.019080</td>\n    </tr>\n    <tr>\n      <th>3</th>\n      <td>0.336700</td>\n      <td>0.052750</td>\n    </tr>\n  </tbody>\n</table>\n</div>"
     },
     "execution_count": 8,
     "metadata": {},
     "output_type": "execute_result"
    }
   ],
   "source": [
    "total_prob = df.groupby(['Sex', 'Pclass', 'Survived']).size()\n",
    "prob2 = total_prob / total\n",
    "prob2 = prob2.unstack()\n",
    "prob2 = prob2.rename(columns={0: 'Not Survived', 1: 'Survived'})\n",
    "prob2"
   ]
  },
  {
   "cell_type": "markdown",
   "id": "1c75c0ce-ca24-410e-b2bc-4fec1a689cf8",
   "metadata": {
    "tags": []
   },
   "source": [
    "## Part II: More insights on the data (3 points)\n",
    "\n",
    "Present 3 insights about the dataset, each of them relating at least 3 different variables, and support them by code and numbers. Possible examples:\n",
    "\n",
    "- \"**Men** aged **less than 18** were more/less likely to **survive** than the average passenger\" (Sex, Age, Survival)\n",
    "- \"**Women** with **no siblings or spouses** paid on average a cheaper/pricier **ticket** than the average woman\" (Sex, SibSp, Fare)\n",
    "- \"**Men** with a **title other than Mr.** were more/less likely to have a known (i.e. non-missing) **cabin** than the average man\" (Sex, Name, Cabin)\n",
    "\n",
    "(Using these exact examples is valid, but awards fewer points than proposing original insights)\n",
    "\n",
    "_Hint: If you want to work with lists and dictionaries rather than pandas objects, you can do_\n",
    "\n",
    "```python\n",
    "recs = df.to_dict(orient=\"records\")\n",
    "```"
   ]
  },
  {
   "cell_type": "markdown",
   "id": "c1747412",
   "metadata": {},
   "source": [
    "Data description:\n",
    "Survival - Survival (0 = No; 1 = Yes)\n",
    "Pclass - Passenger Class (1 = 1st; 2 = 2nd; 3 = 3rd)\n",
    "Name - Name\n",
    "Sex - Sex\n",
    "Age - Age\n",
    "Sibsp - Number of Siblings/Spouses Aboard\n",
    "Parch - Number of Parents/Children Aboard\n",
    "Ticket - Ticket Number\n",
    "Fare - Passenger Fare\n",
    "Cabin - Cabin\n",
    "Embarked - Port of Embarkation (C = Cherbourg; Q = Queenstown; S = Southampton)"
   ]
  },
  {
   "cell_type": "code",
   "execution_count": 9,
   "id": "19b1bec0-e2df-4502-a193-5b441b6457d8",
   "metadata": {
    "ExecuteTime": {
     "end_time": "2023-07-01T16:21:49.782519900Z",
     "start_time": "2023-07-01T16:21:49.760983200Z"
    }
   },
   "outputs": [
    {
     "data": {
      "text/plain": "             Survived  Pclass                     Name   Sex   Age  SibSp  \\\nPassengerId                                                                 \n1                   0       3  Braund, Mr. Owen Harris  male  22.0      1   \n\n             Parch     Ticket  Fare Cabin Embarked  \nPassengerId                                         \n1                0  A/5 21171  7.25   NaN        S  ",
      "text/html": "<div>\n<style scoped>\n    .dataframe tbody tr th:only-of-type {\n        vertical-align: middle;\n    }\n\n    .dataframe tbody tr th {\n        vertical-align: top;\n    }\n\n    .dataframe thead th {\n        text-align: right;\n    }\n</style>\n<table border=\"1\" class=\"dataframe\">\n  <thead>\n    <tr style=\"text-align: right;\">\n      <th></th>\n      <th>Survived</th>\n      <th>Pclass</th>\n      <th>Name</th>\n      <th>Sex</th>\n      <th>Age</th>\n      <th>SibSp</th>\n      <th>Parch</th>\n      <th>Ticket</th>\n      <th>Fare</th>\n      <th>Cabin</th>\n      <th>Embarked</th>\n    </tr>\n    <tr>\n      <th>PassengerId</th>\n      <th></th>\n      <th></th>\n      <th></th>\n      <th></th>\n      <th></th>\n      <th></th>\n      <th></th>\n      <th></th>\n      <th></th>\n      <th></th>\n      <th></th>\n    </tr>\n  </thead>\n  <tbody>\n    <tr>\n      <th>1</th>\n      <td>0</td>\n      <td>3</td>\n      <td>Braund, Mr. Owen Harris</td>\n      <td>male</td>\n      <td>22.0</td>\n      <td>1</td>\n      <td>0</td>\n      <td>A/5 21171</td>\n      <td>7.25</td>\n      <td>NaN</td>\n      <td>S</td>\n    </tr>\n  </tbody>\n</table>\n</div>"
     },
     "execution_count": 9,
     "metadata": {},
     "output_type": "execute_result"
    }
   ],
   "source": [
    "df.head(1)"
   ]
  },
  {
   "cell_type": "code",
   "execution_count": 61,
   "outputs": [
    {
     "data": {
      "text/plain": "Survived                 0          1\nEmbarked Sex                         \nC        female   1.010101   7.182941\n         male     7.407407   3.254770\nQ        female   1.010101   3.030303\n         male     4.264871   0.336700\nS        female   7.070707  15.712682\n         male    40.852974   8.641975",
      "text/html": "<div>\n<style scoped>\n    .dataframe tbody tr th:only-of-type {\n        vertical-align: middle;\n    }\n\n    .dataframe tbody tr th {\n        vertical-align: top;\n    }\n\n    .dataframe thead th {\n        text-align: right;\n    }\n</style>\n<table border=\"1\" class=\"dataframe\">\n  <thead>\n    <tr style=\"text-align: right;\">\n      <th></th>\n      <th>Survived</th>\n      <th>0</th>\n      <th>1</th>\n    </tr>\n    <tr>\n      <th>Embarked</th>\n      <th>Sex</th>\n      <th></th>\n      <th></th>\n    </tr>\n  </thead>\n  <tbody>\n    <tr>\n      <th rowspan=\"2\" valign=\"top\">C</th>\n      <th>female</th>\n      <td>1.010101</td>\n      <td>7.182941</td>\n    </tr>\n    <tr>\n      <th>male</th>\n      <td>7.407407</td>\n      <td>3.254770</td>\n    </tr>\n    <tr>\n      <th rowspan=\"2\" valign=\"top\">Q</th>\n      <th>female</th>\n      <td>1.010101</td>\n      <td>3.030303</td>\n    </tr>\n    <tr>\n      <th>male</th>\n      <td>4.264871</td>\n      <td>0.336700</td>\n    </tr>\n    <tr>\n      <th rowspan=\"2\" valign=\"top\">S</th>\n      <th>female</th>\n      <td>7.070707</td>\n      <td>15.712682</td>\n    </tr>\n    <tr>\n      <th>male</th>\n      <td>40.852974</td>\n      <td>8.641975</td>\n    </tr>\n  </tbody>\n</table>\n</div>"
     },
     "execution_count": 61,
     "metadata": {},
     "output_type": "execute_result"
    }
   ],
   "source": [
    "# Assuming your DataFrame is named 'df'\n",
    "embarked = df.groupby(['Embarked', 'Sex', 'Survived']).size()\n",
    "embarked = (embarked / total ) * 100\n",
    "embarked = embarked.unstack()\n",
    "\n",
    "embarked"
   ],
   "metadata": {
    "collapsed": false,
    "ExecuteTime": {
     "end_time": "2023-07-01T16:57:09.937669700Z",
     "start_time": "2023-07-01T16:57:09.915249Z"
    }
   }
  },
  {
   "cell_type": "code",
   "execution_count": 62,
   "outputs": [
    {
     "data": {
      "text/plain": "Survived             0          1      Total\n(C, female)   1.010101   7.182941   8.193042\n(C, male)     7.407407   3.254770  10.662177\n(Q, female)   1.010101   3.030303   4.040404\n(Q, male)     4.264871   0.336700   4.601571\n(S, female)   7.070707  15.712682  22.783389\n(S, male)    40.852974   8.641975  49.494949\nTotal        61.616162  38.159371        NaN",
      "text/html": "<div>\n<style scoped>\n    .dataframe tbody tr th:only-of-type {\n        vertical-align: middle;\n    }\n\n    .dataframe tbody tr th {\n        vertical-align: top;\n    }\n\n    .dataframe thead th {\n        text-align: right;\n    }\n</style>\n<table border=\"1\" class=\"dataframe\">\n  <thead>\n    <tr style=\"text-align: right;\">\n      <th>Survived</th>\n      <th>0</th>\n      <th>1</th>\n      <th>Total</th>\n    </tr>\n  </thead>\n  <tbody>\n    <tr>\n      <th>(C, female)</th>\n      <td>1.010101</td>\n      <td>7.182941</td>\n      <td>8.193042</td>\n    </tr>\n    <tr>\n      <th>(C, male)</th>\n      <td>7.407407</td>\n      <td>3.254770</td>\n      <td>10.662177</td>\n    </tr>\n    <tr>\n      <th>(Q, female)</th>\n      <td>1.010101</td>\n      <td>3.030303</td>\n      <td>4.040404</td>\n    </tr>\n    <tr>\n      <th>(Q, male)</th>\n      <td>4.264871</td>\n      <td>0.336700</td>\n      <td>4.601571</td>\n    </tr>\n    <tr>\n      <th>(S, female)</th>\n      <td>7.070707</td>\n      <td>15.712682</td>\n      <td>22.783389</td>\n    </tr>\n    <tr>\n      <th>(S, male)</th>\n      <td>40.852974</td>\n      <td>8.641975</td>\n      <td>49.494949</td>\n    </tr>\n    <tr>\n      <th>Total</th>\n      <td>61.616162</td>\n      <td>38.159371</td>\n      <td>NaN</td>\n    </tr>\n  </tbody>\n</table>\n</div>"
     },
     "execution_count": 62,
     "metadata": {},
     "output_type": "execute_result"
    }
   ],
   "source": [
    "row_totals = embarked.sum(axis=1)\n",
    "column_totals = embarked.sum()\n",
    "\n",
    "embarked.loc['Total'] = column_totals\n",
    "embarked['Total'] = row_totals\n",
    "embarked"
   ],
   "metadata": {
    "collapsed": false,
    "ExecuteTime": {
     "end_time": "2023-07-01T16:57:14.105313700Z",
     "start_time": "2023-07-01T16:57:14.083080600Z"
    }
   }
  },
  {
   "cell_type": "code",
   "execution_count": 63,
   "outputs": [
    {
     "data": {
      "text/plain": "Survived          0          1\nEmbarked                      \nC         44.642857  55.357143\nQ         61.038961  38.961039\nS         66.304348  33.695652",
      "text/html": "<div>\n<style scoped>\n    .dataframe tbody tr th:only-of-type {\n        vertical-align: middle;\n    }\n\n    .dataframe tbody tr th {\n        vertical-align: top;\n    }\n\n    .dataframe thead th {\n        text-align: right;\n    }\n</style>\n<table border=\"1\" class=\"dataframe\">\n  <thead>\n    <tr style=\"text-align: right;\">\n      <th>Survived</th>\n      <th>0</th>\n      <th>1</th>\n    </tr>\n    <tr>\n      <th>Embarked</th>\n      <th></th>\n      <th></th>\n    </tr>\n  </thead>\n  <tbody>\n    <tr>\n      <th>C</th>\n      <td>44.642857</td>\n      <td>55.357143</td>\n    </tr>\n    <tr>\n      <th>Q</th>\n      <td>61.038961</td>\n      <td>38.961039</td>\n    </tr>\n    <tr>\n      <th>S</th>\n      <td>66.304348</td>\n      <td>33.695652</td>\n    </tr>\n  </tbody>\n</table>\n</div>"
     },
     "execution_count": 63,
     "metadata": {},
     "output_type": "execute_result"
    }
   ],
   "source": [
    "embarked = df.groupby(['Embarked', 'Survived']).size().unstack()\n",
    "total_per_embarked = df.groupby('Embarked').size()\n",
    "embarked_probability = embarked.apply(lambda x: (x / total_per_embarked[x.name]) * 100, axis=1)\n",
    "embarked_probability"
   ],
   "metadata": {
    "collapsed": false,
    "ExecuteTime": {
     "end_time": "2023-07-01T16:57:15.543481100Z",
     "start_time": "2023-07-01T16:57:15.523445300Z"
    }
   }
  },
  {
   "cell_type": "code",
   "execution_count": 64,
   "outputs": [
    {
     "name": "stdout",
     "output_type": "stream",
     "text": [
      "After a research on the Internet looking for the documentation of the dataset, we know the following:\n",
      "\n",
      "- Data description:\n",
      "    * Survival - Survival (0 = No; 1 = Yes)\n",
      "    * Pclass - Passenger Class (1 = 1st; 2 = 2nd; 3 = 3rd)\n",
      "    * Name - Name\n",
      "    * Sex - Sex\n",
      "    * Age - Age\n",
      "    * Sibsp - Number of Siblings/Spouses Aboard\n",
      "    * Parch - Number of Parents/Children Aboard\n",
      "    * Ticket - Ticket Number\n",
      "    * Fare - Passenger Fare\n",
      "    * Cabin - Cabin\n",
      "    * Embarked - Port of Embarkation (C = Cherbourg; Q = Queenstown; S = Southampton)\n"
     ]
    }
   ],
   "source": [
    "print('After a research on the Internet looking for the documentation of the dataset, we know the following:')\n",
    "print('''\n",
    "- Data description:\n",
    "    * Survival - Survival (0 = No; 1 = Yes)\n",
    "    * Pclass - Passenger Class (1 = 1st; 2 = 2nd; 3 = 3rd)\n",
    "    * Name - Name\n",
    "    * Sex - Sex\n",
    "    * Age - Age\n",
    "    * Sibsp - Number of Siblings/Spouses Aboard\n",
    "    * Parch - Number of Parents/Children Aboard\n",
    "    * Ticket - Ticket Number\n",
    "    * Fare - Passenger Fare\n",
    "    * Cabin - Cabin\n",
    "    * Embarked - Port of Embarkation (C = Cherbourg; Q = Queenstown; S = Southampton)''')"
   ],
   "metadata": {
    "collapsed": false,
    "ExecuteTime": {
     "end_time": "2023-07-01T16:57:16.667702300Z",
     "start_time": "2023-07-01T16:57:16.651164600Z"
    }
   }
  },
  {
   "cell_type": "code",
   "execution_count": 65,
   "outputs": [
    {
     "name": "stdout",
     "output_type": "stream",
     "text": [
      "Insight 1:\n",
      " After analyzing the relation between Port of Embarkation, Sex and Survival, we conclude:\n",
      " - Overall Survival: Survival rates were highest for passengers who embarked from Cherbourg (55.36%), followed by Queenstown (38.96%) and Southampton (33.70%).\n",
      " - Gender Influence: In all ports, female passengers had a higher survival rate than males.\n",
      " - Port & Gender: Cherbourg had the highest survival rates for both genders, while Southampton had the most passengers.\n"
     ]
    }
   ],
   "source": [
    "print(\"Insight 1:\")\n",
    "print(\" After analyzing the relation between Port of Embarkation, Sex and Survival, we conclude:\")\n",
    "print(\" - Overall Survival: Survival rates were highest for passengers who embarked from Cherbourg (55.36%), followed by Queenstown (38.96%) and Southampton (33.70%).\")\n",
    "print(\" - Gender Influence: In all ports, female passengers had a higher survival rate than males.\")\n",
    "print(\" - Port & Gender: Cherbourg had the highest survival rates for both genders, while Southampton had the most passengers.\")"
   ],
   "metadata": {
    "collapsed": false,
    "ExecuteTime": {
     "end_time": "2023-07-01T16:57:17.754648200Z",
     "start_time": "2023-07-01T16:57:17.737615900Z"
    }
   }
  },
  {
   "cell_type": "code",
   "execution_count": null,
   "outputs": [],
   "source": [],
   "metadata": {
    "collapsed": false
   }
  }
 ],
 "metadata": {
  "kernelspec": {
   "display_name": "Python 3 (ipykernel)",
   "language": "python",
   "name": "python3"
  },
  "language_info": {
   "codemirror_mode": {
    "name": "ipython",
    "version": 3
   },
   "file_extension": ".py",
   "mimetype": "text/x-python",
   "name": "python",
   "nbconvert_exporter": "python",
   "pygments_lexer": "ipython3",
   "version": "3.10.11"
  }
 },
 "nbformat": 4,
 "nbformat_minor": 5
}
