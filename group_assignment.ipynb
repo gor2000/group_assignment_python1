{
 "cells": [
  {
   "cell_type": "markdown",
   "id": "c014f311-2159-4b24-be0a-a4c2d2734c98",
   "metadata": {},
   "source": [
    "## Part I: Exploratory analysis (3 points)\n",
    "\n",
    "Read the dataset correctly using pandas, using an appropriate column as index (1 point)"
   ]
  },
  {
   "cell_type": "code",
   "execution_count": 2,
   "id": "05e90c97-716a-49d2-9470-886fb62d214e",
   "metadata": {
    "ExecuteTime": {
     "end_time": "2023-07-01T16:21:24.631510400Z",
     "start_time": "2023-07-01T16:21:24.606008300Z"
    }
   },
   "outputs": [
    {
     "data": {
      "text/plain": "             Survived  Pclass  \\\nPassengerId                     \n1                   0       3   \n2                   1       1   \n3                   1       3   \n4                   1       1   \n5                   0       3   \n\n                                                          Name     Sex   Age  \\\nPassengerId                                                                    \n1                                      Braund, Mr. Owen Harris    male  22.0   \n2            Cumings, Mrs. John Bradley (Florence Briggs Th...  female  38.0   \n3                                       Heikkinen, Miss. Laina  female  26.0   \n4                 Futrelle, Mrs. Jacques Heath (Lily May Peel)  female  35.0   \n5                                     Allen, Mr. William Henry    male  35.0   \n\n             SibSp  Parch            Ticket     Fare Cabin Embarked  \nPassengerId                                                          \n1                1      0         A/5 21171   7.2500   NaN        S  \n2                1      0          PC 17599  71.2833   C85        C  \n3                0      0  STON/O2. 3101282   7.9250   NaN        S  \n4                1      0            113803  53.1000  C123        S  \n5                0      0            373450   8.0500   NaN        S  ",
      "text/html": "<div>\n<style scoped>\n    .dataframe tbody tr th:only-of-type {\n        vertical-align: middle;\n    }\n\n    .dataframe tbody tr th {\n        vertical-align: top;\n    }\n\n    .dataframe thead th {\n        text-align: right;\n    }\n</style>\n<table border=\"1\" class=\"dataframe\">\n  <thead>\n    <tr style=\"text-align: right;\">\n      <th></th>\n      <th>Survived</th>\n      <th>Pclass</th>\n      <th>Name</th>\n      <th>Sex</th>\n      <th>Age</th>\n      <th>SibSp</th>\n      <th>Parch</th>\n      <th>Ticket</th>\n      <th>Fare</th>\n      <th>Cabin</th>\n      <th>Embarked</th>\n    </tr>\n    <tr>\n      <th>PassengerId</th>\n      <th></th>\n      <th></th>\n      <th></th>\n      <th></th>\n      <th></th>\n      <th></th>\n      <th></th>\n      <th></th>\n      <th></th>\n      <th></th>\n      <th></th>\n    </tr>\n  </thead>\n  <tbody>\n    <tr>\n      <th>1</th>\n      <td>0</td>\n      <td>3</td>\n      <td>Braund, Mr. Owen Harris</td>\n      <td>male</td>\n      <td>22.0</td>\n      <td>1</td>\n      <td>0</td>\n      <td>A/5 21171</td>\n      <td>7.2500</td>\n      <td>NaN</td>\n      <td>S</td>\n    </tr>\n    <tr>\n      <th>2</th>\n      <td>1</td>\n      <td>1</td>\n      <td>Cumings, Mrs. John Bradley (Florence Briggs Th...</td>\n      <td>female</td>\n      <td>38.0</td>\n      <td>1</td>\n      <td>0</td>\n      <td>PC 17599</td>\n      <td>71.2833</td>\n      <td>C85</td>\n      <td>C</td>\n    </tr>\n    <tr>\n      <th>3</th>\n      <td>1</td>\n      <td>3</td>\n      <td>Heikkinen, Miss. Laina</td>\n      <td>female</td>\n      <td>26.0</td>\n      <td>0</td>\n      <td>0</td>\n      <td>STON/O2. 3101282</td>\n      <td>7.9250</td>\n      <td>NaN</td>\n      <td>S</td>\n    </tr>\n    <tr>\n      <th>4</th>\n      <td>1</td>\n      <td>1</td>\n      <td>Futrelle, Mrs. Jacques Heath (Lily May Peel)</td>\n      <td>female</td>\n      <td>35.0</td>\n      <td>1</td>\n      <td>0</td>\n      <td>113803</td>\n      <td>53.1000</td>\n      <td>C123</td>\n      <td>S</td>\n    </tr>\n    <tr>\n      <th>5</th>\n      <td>0</td>\n      <td>3</td>\n      <td>Allen, Mr. William Henry</td>\n      <td>male</td>\n      <td>35.0</td>\n      <td>0</td>\n      <td>0</td>\n      <td>373450</td>\n      <td>8.0500</td>\n      <td>NaN</td>\n      <td>S</td>\n    </tr>\n  </tbody>\n</table>\n</div>"
     },
     "execution_count": 2,
     "metadata": {},
     "output_type": "execute_result"
    }
   ],
   "source": [
    "import pandas as pd\n",
    "\n",
    "df = pd.read_csv('train.csv', index_col='PassengerId')\n",
    "df.head()"
   ]
  },
  {
   "cell_type": "code",
   "execution_count": 67,
   "outputs": [
    {
     "data": {
      "text/plain": "             Survived  Pclass                                     Name  \\\nPassengerId                                                              \n297                 0       3                       Hanna, Mr. Mansour   \n287                 1       3                  de Mulder, Mr. Theodore   \n203                 0       3               Johanson, Mr. Jakob Alfred   \n154                 0       3          van Billiard, Mr. Austin Blyler   \n241                 0       3                    Zabour, Miss. Thamine   \n501                 0       3                         Calic, Mr. Petar   \n853                 0       3                  Boulos, Miss. Nourelain   \n512                 0       3                        Webber, Mr. James   \n543                 0       3        Andersson, Miss. Sigrid Elisabeth   \n135                 0       2           Sobey, Mr. Samuel James Hayden   \n866                 1       2                 Bystrom, Mrs. (Karolina)   \n262                 1       3        Asplund, Master. Edvin Rojj Felix   \n340                 0       1             Blackwell, Mr. Stephen Weart   \n621                 0       3                      Yasbeck, Mr. Antoni   \n249                 1       1            Beckwith, Mr. Richard Leonard   \n523                 0       3                       Lahoud, Mr. Sarkis   \n22                  1       2                    Beesley, Mr. Lawrence   \n10                  1       2      Nasser, Mrs. Nicholas (Adele Achem)   \n884                 0       2            Banfield, Mr. Frederick James   \n831                 1       3  Yasbeck, Mrs. Antoni (Selini Alexander)   \n\n                Sex   Age  SibSp  Parch            Ticket     Fare Cabin  \\\nPassengerId                                                                \n297            male  23.5      0      0              2693   7.2292   NaN   \n287            male  30.0      0      0            345774   9.5000   NaN   \n203            male  34.0      0      0           3101264   6.4958   NaN   \n154            male  40.5      0      2          A/5. 851  14.5000   NaN   \n241          female   NaN      1      0              2665  14.4542   NaN   \n501            male  17.0      0      0            315086   8.6625   NaN   \n853          female   9.0      1      1              2678  15.2458   NaN   \n512            male   NaN      0      0  SOTON/OQ 3101316   8.0500   NaN   \n543          female  11.0      4      2            347082  31.2750   NaN   \n135            male  25.0      0      0        C.A. 29178  13.0000   NaN   \n866          female  42.0      0      0            236852  13.0000   NaN   \n262            male   3.0      4      2            347077  31.3875   NaN   \n340            male  45.0      0      0            113784  35.5000     T   \n621            male  27.0      1      0              2659  14.4542   NaN   \n249            male  37.0      1      1             11751  52.5542   D35   \n523            male   NaN      0      0              2624   7.2250   NaN   \n22             male  34.0      0      0            248698  13.0000   D56   \n10           female  14.0      1      0            237736  30.0708   NaN   \n884            male  28.0      0      0  C.A./SOTON 34068  10.5000   NaN   \n831          female  15.0      1      0              2659  14.4542   NaN   \n\n            Embarked  \nPassengerId           \n297                C  \n287                S  \n203                S  \n154                S  \n241                C  \n501                S  \n853                C  \n512                S  \n543                S  \n135                S  \n866                S  \n262                S  \n340                S  \n621                C  \n249                S  \n523                C  \n22                 S  \n10                 C  \n884                S  \n831                C  ",
      "text/html": "<div>\n<style scoped>\n    .dataframe tbody tr th:only-of-type {\n        vertical-align: middle;\n    }\n\n    .dataframe tbody tr th {\n        vertical-align: top;\n    }\n\n    .dataframe thead th {\n        text-align: right;\n    }\n</style>\n<table border=\"1\" class=\"dataframe\">\n  <thead>\n    <tr style=\"text-align: right;\">\n      <th></th>\n      <th>Survived</th>\n      <th>Pclass</th>\n      <th>Name</th>\n      <th>Sex</th>\n      <th>Age</th>\n      <th>SibSp</th>\n      <th>Parch</th>\n      <th>Ticket</th>\n      <th>Fare</th>\n      <th>Cabin</th>\n      <th>Embarked</th>\n    </tr>\n    <tr>\n      <th>PassengerId</th>\n      <th></th>\n      <th></th>\n      <th></th>\n      <th></th>\n      <th></th>\n      <th></th>\n      <th></th>\n      <th></th>\n      <th></th>\n      <th></th>\n      <th></th>\n    </tr>\n  </thead>\n  <tbody>\n    <tr>\n      <th>297</th>\n      <td>0</td>\n      <td>3</td>\n      <td>Hanna, Mr. Mansour</td>\n      <td>male</td>\n      <td>23.5</td>\n      <td>0</td>\n      <td>0</td>\n      <td>2693</td>\n      <td>7.2292</td>\n      <td>NaN</td>\n      <td>C</td>\n    </tr>\n    <tr>\n      <th>287</th>\n      <td>1</td>\n      <td>3</td>\n      <td>de Mulder, Mr. Theodore</td>\n      <td>male</td>\n      <td>30.0</td>\n      <td>0</td>\n      <td>0</td>\n      <td>345774</td>\n      <td>9.5000</td>\n      <td>NaN</td>\n      <td>S</td>\n    </tr>\n    <tr>\n      <th>203</th>\n      <td>0</td>\n      <td>3</td>\n      <td>Johanson, Mr. Jakob Alfred</td>\n      <td>male</td>\n      <td>34.0</td>\n      <td>0</td>\n      <td>0</td>\n      <td>3101264</td>\n      <td>6.4958</td>\n      <td>NaN</td>\n      <td>S</td>\n    </tr>\n    <tr>\n      <th>154</th>\n      <td>0</td>\n      <td>3</td>\n      <td>van Billiard, Mr. Austin Blyler</td>\n      <td>male</td>\n      <td>40.5</td>\n      <td>0</td>\n      <td>2</td>\n      <td>A/5. 851</td>\n      <td>14.5000</td>\n      <td>NaN</td>\n      <td>S</td>\n    </tr>\n    <tr>\n      <th>241</th>\n      <td>0</td>\n      <td>3</td>\n      <td>Zabour, Miss. Thamine</td>\n      <td>female</td>\n      <td>NaN</td>\n      <td>1</td>\n      <td>0</td>\n      <td>2665</td>\n      <td>14.4542</td>\n      <td>NaN</td>\n      <td>C</td>\n    </tr>\n    <tr>\n      <th>501</th>\n      <td>0</td>\n      <td>3</td>\n      <td>Calic, Mr. Petar</td>\n      <td>male</td>\n      <td>17.0</td>\n      <td>0</td>\n      <td>0</td>\n      <td>315086</td>\n      <td>8.6625</td>\n      <td>NaN</td>\n      <td>S</td>\n    </tr>\n    <tr>\n      <th>853</th>\n      <td>0</td>\n      <td>3</td>\n      <td>Boulos, Miss. Nourelain</td>\n      <td>female</td>\n      <td>9.0</td>\n      <td>1</td>\n      <td>1</td>\n      <td>2678</td>\n      <td>15.2458</td>\n      <td>NaN</td>\n      <td>C</td>\n    </tr>\n    <tr>\n      <th>512</th>\n      <td>0</td>\n      <td>3</td>\n      <td>Webber, Mr. James</td>\n      <td>male</td>\n      <td>NaN</td>\n      <td>0</td>\n      <td>0</td>\n      <td>SOTON/OQ 3101316</td>\n      <td>8.0500</td>\n      <td>NaN</td>\n      <td>S</td>\n    </tr>\n    <tr>\n      <th>543</th>\n      <td>0</td>\n      <td>3</td>\n      <td>Andersson, Miss. Sigrid Elisabeth</td>\n      <td>female</td>\n      <td>11.0</td>\n      <td>4</td>\n      <td>2</td>\n      <td>347082</td>\n      <td>31.2750</td>\n      <td>NaN</td>\n      <td>S</td>\n    </tr>\n    <tr>\n      <th>135</th>\n      <td>0</td>\n      <td>2</td>\n      <td>Sobey, Mr. Samuel James Hayden</td>\n      <td>male</td>\n      <td>25.0</td>\n      <td>0</td>\n      <td>0</td>\n      <td>C.A. 29178</td>\n      <td>13.0000</td>\n      <td>NaN</td>\n      <td>S</td>\n    </tr>\n    <tr>\n      <th>866</th>\n      <td>1</td>\n      <td>2</td>\n      <td>Bystrom, Mrs. (Karolina)</td>\n      <td>female</td>\n      <td>42.0</td>\n      <td>0</td>\n      <td>0</td>\n      <td>236852</td>\n      <td>13.0000</td>\n      <td>NaN</td>\n      <td>S</td>\n    </tr>\n    <tr>\n      <th>262</th>\n      <td>1</td>\n      <td>3</td>\n      <td>Asplund, Master. Edvin Rojj Felix</td>\n      <td>male</td>\n      <td>3.0</td>\n      <td>4</td>\n      <td>2</td>\n      <td>347077</td>\n      <td>31.3875</td>\n      <td>NaN</td>\n      <td>S</td>\n    </tr>\n    <tr>\n      <th>340</th>\n      <td>0</td>\n      <td>1</td>\n      <td>Blackwell, Mr. Stephen Weart</td>\n      <td>male</td>\n      <td>45.0</td>\n      <td>0</td>\n      <td>0</td>\n      <td>113784</td>\n      <td>35.5000</td>\n      <td>T</td>\n      <td>S</td>\n    </tr>\n    <tr>\n      <th>621</th>\n      <td>0</td>\n      <td>3</td>\n      <td>Yasbeck, Mr. Antoni</td>\n      <td>male</td>\n      <td>27.0</td>\n      <td>1</td>\n      <td>0</td>\n      <td>2659</td>\n      <td>14.4542</td>\n      <td>NaN</td>\n      <td>C</td>\n    </tr>\n    <tr>\n      <th>249</th>\n      <td>1</td>\n      <td>1</td>\n      <td>Beckwith, Mr. Richard Leonard</td>\n      <td>male</td>\n      <td>37.0</td>\n      <td>1</td>\n      <td>1</td>\n      <td>11751</td>\n      <td>52.5542</td>\n      <td>D35</td>\n      <td>S</td>\n    </tr>\n    <tr>\n      <th>523</th>\n      <td>0</td>\n      <td>3</td>\n      <td>Lahoud, Mr. Sarkis</td>\n      <td>male</td>\n      <td>NaN</td>\n      <td>0</td>\n      <td>0</td>\n      <td>2624</td>\n      <td>7.2250</td>\n      <td>NaN</td>\n      <td>C</td>\n    </tr>\n    <tr>\n      <th>22</th>\n      <td>1</td>\n      <td>2</td>\n      <td>Beesley, Mr. Lawrence</td>\n      <td>male</td>\n      <td>34.0</td>\n      <td>0</td>\n      <td>0</td>\n      <td>248698</td>\n      <td>13.0000</td>\n      <td>D56</td>\n      <td>S</td>\n    </tr>\n    <tr>\n      <th>10</th>\n      <td>1</td>\n      <td>2</td>\n      <td>Nasser, Mrs. Nicholas (Adele Achem)</td>\n      <td>female</td>\n      <td>14.0</td>\n      <td>1</td>\n      <td>0</td>\n      <td>237736</td>\n      <td>30.0708</td>\n      <td>NaN</td>\n      <td>C</td>\n    </tr>\n    <tr>\n      <th>884</th>\n      <td>0</td>\n      <td>2</td>\n      <td>Banfield, Mr. Frederick James</td>\n      <td>male</td>\n      <td>28.0</td>\n      <td>0</td>\n      <td>0</td>\n      <td>C.A./SOTON 34068</td>\n      <td>10.5000</td>\n      <td>NaN</td>\n      <td>S</td>\n    </tr>\n    <tr>\n      <th>831</th>\n      <td>1</td>\n      <td>3</td>\n      <td>Yasbeck, Mrs. Antoni (Selini Alexander)</td>\n      <td>female</td>\n      <td>15.0</td>\n      <td>1</td>\n      <td>0</td>\n      <td>2659</td>\n      <td>14.4542</td>\n      <td>NaN</td>\n      <td>C</td>\n    </tr>\n  </tbody>\n</table>\n</div>"
     },
     "execution_count": 67,
     "metadata": {},
     "output_type": "execute_result"
    }
   ],
   "source": [
    "df.sample(20)"
   ],
   "metadata": {
    "collapsed": false,
    "ExecuteTime": {
     "end_time": "2023-07-01T17:07:07.408245200Z",
     "start_time": "2023-07-01T17:07:07.382368300Z"
    }
   }
  },
  {
   "cell_type": "markdown",
   "id": "c855c092-90d9-49bd-ae14-8f85f124fdb1",
   "metadata": {},
   "source": [
    "Compute the percentage of survivors out of total number of passengers..."
   ]
  },
  {
   "cell_type": "code",
   "execution_count": 40,
   "id": "8f54fd98-5047-4a01-ab5b-dd5c9de130df",
   "metadata": {
    "ExecuteTime": {
     "end_time": "2023-07-01T16:43:01.682649800Z",
     "start_time": "2023-07-01T16:43:01.653627400Z"
    }
   },
   "outputs": [
    {
     "name": "stdout",
     "output_type": "stream",
     "text": [
      "Percentage of survivors: 38.38%\n"
     ]
    }
   ],
   "source": [
    "total = df.shape[0]\n",
    "survivors = df[df['Survived'] == 1].shape[0]\n",
    "survivors_per = survivors/total\n",
    "print(f\"Percentage of survivors: {round(survivors_per*100,2)}%\")"
   ]
  },
  {
   "cell_type": "markdown",
   "id": "d4cb8fb4-c9e3-44bf-b65c-0c124bc1ae7e",
   "metadata": {},
   "source": [
    "...and the percentage of men and women out of total number of passengers (0.5 points)"
   ]
  },
  {
   "cell_type": "code",
   "execution_count": 4,
   "id": "9e6dcd68-9834-4006-84b1-5e4a3e178650",
   "metadata": {
    "ExecuteTime": {
     "end_time": "2023-07-01T16:21:27.918712700Z",
     "start_time": "2023-07-01T16:21:27.898709800Z"
    }
   },
   "outputs": [
    {
     "name": "stdout",
     "output_type": "stream",
     "text": [
      "Percentage of male: 64.76%\n",
      "Percentage of female: 35.24%\n"
     ]
    }
   ],
   "source": [
    "men = df[df['Sex'] == 'male'].shape[0]\n",
    "woman = df[df['Sex'] == 'female'].shape[0]\n",
    "men_per = men/total\n",
    "woman_per = woman/total\n",
    "print(f\"Percentage of male: {round(men_per*100,2)}%\")\n",
    "print(f\"Percentage of female: {round(woman_per*100,2)}%\")"
   ]
  },
  {
   "cell_type": "markdown",
   "id": "2c913e51-3aa0-449e-a323-e9954dc188b3",
   "metadata": {},
   "source": [
    "Compute the percentage of survivors by sex (i.e. the percentage of male passengers that survived and female passengers that survived)..."
   ]
  },
  {
   "cell_type": "code",
   "execution_count": 5,
   "id": "a64ef95b-fcf7-490a-aaaf-145bad652094",
   "metadata": {
    "ExecuteTime": {
     "end_time": "2023-07-01T16:21:29.975565500Z",
     "start_time": "2023-07-01T16:21:29.964594300Z"
    }
   },
   "outputs": [
    {
     "name": "stdout",
     "output_type": "stream",
     "text": [
      "Percentage of male passengers who survived: 18.89%\n",
      "Percentage of female passengers who survived: 74.2%\n"
     ]
    }
   ],
   "source": [
    "surv_men = df[(df['Sex'] == 'male') & (df['Survived'] == 1)].shape[0]\n",
    "surv_woman = df[(df['Sex'] == 'female') & (df['Survived'] == 1)].shape[0]\n",
    "\n",
    "surv_men_per = surv_men / men\n",
    "surv_woman_per = surv_woman / woman\n",
    "print(f\"Percentage of male passengers who survived: {round(surv_men_per*100,2)}%\")\n",
    "print(f\"Percentage of female passengers who survived: {round(surv_woman_per*100,2)}%\")"
   ]
  },
  {
   "cell_type": "markdown",
   "id": "8928d6c0-d642-468f-948b-06492052a0cc",
   "metadata": {},
   "source": [
    "...and the sex distribution of survivors (i.e. percentage of survivors that were men and percentage of survivors that were women) (0.5 points)"
   ]
  },
  {
   "cell_type": "code",
   "execution_count": 6,
   "id": "ee65ca0f-ebea-4be3-a9bc-e2d8d6766c48",
   "metadata": {
    "ExecuteTime": {
     "end_time": "2023-07-01T16:21:36.447739400Z",
     "start_time": "2023-07-01T16:21:36.434543300Z"
    }
   },
   "outputs": [
    {
     "name": "stdout",
     "output_type": "stream",
     "text": [
      "Percentage of survivors who were men: 31.87%\n",
      "Percentage of survivors who were women: 68.13%\n"
     ]
    }
   ],
   "source": [
    "male_surv_per = (surv_men / survivors)\n",
    "female_surv_per = (surv_woman / survivors)\n",
    "print(f\"Percentage of survivors who were men: {round(male_surv_per * 100, 2)}%\")\n",
    "print(f\"Percentage of survivors who were women: {round(female_surv_per * 100, 2)}%\")"
   ]
  },
  {
   "cell_type": "markdown",
   "id": "cb3c809c-2d2e-4b0f-bdfb-a49e1f6a5ade",
   "metadata": {},
   "source": [
    "Display in a 2 x 2 DataFrame the probability of being male/female and surviving/not surviving (0.5 points)\n",
    "\n",
    "One possible option:\n",
    "\n",
    "|            | **Survived**      | **Not survived**      |\n",
    "|------------|-------------------|-----------------------|\n",
    "| **Male**   | Male & Survived   | Male & Not survived   |\n",
    "| **Female** | Female & Survived | Female & Not survived |\n",
    "\n",
    "Notice that the sum of all values in the table above should be 1 (or 100 %)."
   ]
  },
  {
   "cell_type": "code",
   "execution_count": 7,
   "id": "36112d8b-0c7a-4417-bcc3-302eed4515b8",
   "metadata": {
    "ExecuteTime": {
     "end_time": "2023-07-01T16:21:39.411271300Z",
     "start_time": "2023-07-01T16:21:39.379131200Z"
    }
   },
   "outputs": [
    {
     "data": {
      "text/plain": "Survived  Not Survived  Survived\nSex                             \nfemale        0.090909  0.261504\nmale          0.525253  0.122334",
      "text/html": "<div>\n<style scoped>\n    .dataframe tbody tr th:only-of-type {\n        vertical-align: middle;\n    }\n\n    .dataframe tbody tr th {\n        vertical-align: top;\n    }\n\n    .dataframe thead th {\n        text-align: right;\n    }\n</style>\n<table border=\"1\" class=\"dataframe\">\n  <thead>\n    <tr style=\"text-align: right;\">\n      <th>Survived</th>\n      <th>Not Survived</th>\n      <th>Survived</th>\n    </tr>\n    <tr>\n      <th>Sex</th>\n      <th></th>\n      <th></th>\n    </tr>\n  </thead>\n  <tbody>\n    <tr>\n      <th>female</th>\n      <td>0.090909</td>\n      <td>0.261504</td>\n    </tr>\n    <tr>\n      <th>male</th>\n      <td>0.525253</td>\n      <td>0.122334</td>\n    </tr>\n  </tbody>\n</table>\n</div>"
     },
     "execution_count": 7,
     "metadata": {},
     "output_type": "execute_result"
    }
   ],
   "source": [
    "sex_and_survived = df.groupby(['Sex', 'Survived']).size()\n",
    "\n",
    "prob = sex_and_survived / total\n",
    "\n",
    "prob = prob.unstack()\n",
    "prob = prob.rename(columns={0: 'Not Survived', 1: 'Survived'})\n",
    "prob"
   ]
  },
  {
   "cell_type": "markdown",
   "id": "ec2b4661-8cb1-4551-8c9a-ffb4ab4ea138",
   "metadata": {},
   "source": [
    "Display in a DataFrame the probability of survival/not survival of all combinations of sex and class (0.5 points)\n",
    "\n",
    "One possible option:\n",
    "\n",
    "|            |   | **Survived**              | **Not survived** |\n",
    "|------------|---|---------------------------|------------------|\n",
    "| **Male**   | 1 | Male & Survived & Class 1 | ...              |\n",
    "|            | 2 | Male & Survived & Class 2 | ...              |\n",
    "|            | 3 | Male & Survived & Class 3 | ...              |\n",
    "| **Female** | 1 | ...                       | ...              |\n",
    "|            | 2 | ...                       | ...              |\n",
    "|            | 3 | ...                       | ...              |\n",
    "\n",
    "Notice that the sum of all values in the table above should be 1 (or 100 %)."
   ]
  },
  {
   "cell_type": "code",
   "execution_count": 8,
   "id": "9fcf470d-ca4b-489e-be6b-86c526a6f315",
   "metadata": {
    "ExecuteTime": {
     "end_time": "2023-07-01T16:21:42.744545600Z",
     "start_time": "2023-07-01T16:21:42.726490Z"
    }
   },
   "outputs": [
    {
     "data": {
      "text/plain": "Survived       Not Survived  Survived\nSex    Pclass                        \nfemale 1           0.003367  0.102132\n       2           0.006734  0.078563\n       3           0.080808  0.080808\nmale   1           0.086420  0.050505\n       2           0.102132  0.019080\n       3           0.336700  0.052750",
      "text/html": "<div>\n<style scoped>\n    .dataframe tbody tr th:only-of-type {\n        vertical-align: middle;\n    }\n\n    .dataframe tbody tr th {\n        vertical-align: top;\n    }\n\n    .dataframe thead th {\n        text-align: right;\n    }\n</style>\n<table border=\"1\" class=\"dataframe\">\n  <thead>\n    <tr style=\"text-align: right;\">\n      <th></th>\n      <th>Survived</th>\n      <th>Not Survived</th>\n      <th>Survived</th>\n    </tr>\n    <tr>\n      <th>Sex</th>\n      <th>Pclass</th>\n      <th></th>\n      <th></th>\n    </tr>\n  </thead>\n  <tbody>\n    <tr>\n      <th rowspan=\"3\" valign=\"top\">female</th>\n      <th>1</th>\n      <td>0.003367</td>\n      <td>0.102132</td>\n    </tr>\n    <tr>\n      <th>2</th>\n      <td>0.006734</td>\n      <td>0.078563</td>\n    </tr>\n    <tr>\n      <th>3</th>\n      <td>0.080808</td>\n      <td>0.080808</td>\n    </tr>\n    <tr>\n      <th rowspan=\"3\" valign=\"top\">male</th>\n      <th>1</th>\n      <td>0.086420</td>\n      <td>0.050505</td>\n    </tr>\n    <tr>\n      <th>2</th>\n      <td>0.102132</td>\n      <td>0.019080</td>\n    </tr>\n    <tr>\n      <th>3</th>\n      <td>0.336700</td>\n      <td>0.052750</td>\n    </tr>\n  </tbody>\n</table>\n</div>"
     },
     "execution_count": 8,
     "metadata": {},
     "output_type": "execute_result"
    }
   ],
   "source": [
    "total_prob = df.groupby(['Sex', 'Pclass', 'Survived']).size()\n",
    "prob2 = total_prob / total\n",
    "prob2 = prob2.unstack()\n",
    "prob2 = prob2.rename(columns={0: 'Not Survived', 1: 'Survived'})\n",
    "prob2"
   ]
  },
  {
   "cell_type": "markdown",
   "id": "1c75c0ce-ca24-410e-b2bc-4fec1a689cf8",
   "metadata": {
    "tags": []
   },
   "source": [
    "## Part II: More insights on the data (3 points)\n",
    "\n",
    "Present 3 insights about the dataset, each of them relating at least 3 different variables, and support them by code and numbers. Possible examples:\n",
    "\n",
    "- \"**Men** aged **less than 18** were more/less likely to **survive** than the average passenger\" (Sex, Age, Survival)\n",
    "- \"**Women** with **no siblings or spouses** paid on average a cheaper/pricier **ticket** than the average woman\" (Sex, SibSp, Fare)\n",
    "- \"**Men** with a **title other than Mr.** were more/less likely to have a known (i.e. non-missing) **cabin** than the average man\" (Sex, Name, Cabin)\n",
    "\n",
    "(Using these exact examples is valid, but awards fewer points than proposing original insights)\n",
    "\n",
    "_Hint: If you want to work with lists and dictionaries rather than pandas objects, you can do_\n",
    "\n",
    "```python\n",
    "recs = df.to_dict(orient=\"records\")\n",
    "```"
   ]
  },
  {
   "cell_type": "markdown",
   "id": "c1747412",
   "metadata": {},
   "source": [
    "Data description:\n",
    "Survival - Survival (0 = No; 1 = Yes)\n",
    "Pclass - Passenger Class (1 = 1st; 2 = 2nd; 3 = 3rd)\n",
    "Name - Name\n",
    "Sex - Sex\n",
    "Age - Age\n",
    "Sibsp - Number of Siblings/Spouses Aboard\n",
    "Parch - Number of Parents/Children Aboard\n",
    "Ticket - Ticket Number\n",
    "Fare - Passenger Fare\n",
    "Cabin - Cabin\n",
    "Embarked - Port of Embarkation (C = Cherbourg; Q = Queenstown; S = Southampton)"
   ]
  },
  {
   "cell_type": "code",
   "execution_count": 9,
   "id": "19b1bec0-e2df-4502-a193-5b441b6457d8",
   "metadata": {
    "ExecuteTime": {
     "end_time": "2023-07-01T16:21:49.782519900Z",
     "start_time": "2023-07-01T16:21:49.760983200Z"
    }
   },
   "outputs": [
    {
     "data": {
      "text/plain": "             Survived  Pclass                     Name   Sex   Age  SibSp  \\\nPassengerId                                                                 \n1                   0       3  Braund, Mr. Owen Harris  male  22.0      1   \n\n             Parch     Ticket  Fare Cabin Embarked  \nPassengerId                                         \n1                0  A/5 21171  7.25   NaN        S  ",
      "text/html": "<div>\n<style scoped>\n    .dataframe tbody tr th:only-of-type {\n        vertical-align: middle;\n    }\n\n    .dataframe tbody tr th {\n        vertical-align: top;\n    }\n\n    .dataframe thead th {\n        text-align: right;\n    }\n</style>\n<table border=\"1\" class=\"dataframe\">\n  <thead>\n    <tr style=\"text-align: right;\">\n      <th></th>\n      <th>Survived</th>\n      <th>Pclass</th>\n      <th>Name</th>\n      <th>Sex</th>\n      <th>Age</th>\n      <th>SibSp</th>\n      <th>Parch</th>\n      <th>Ticket</th>\n      <th>Fare</th>\n      <th>Cabin</th>\n      <th>Embarked</th>\n    </tr>\n    <tr>\n      <th>PassengerId</th>\n      <th></th>\n      <th></th>\n      <th></th>\n      <th></th>\n      <th></th>\n      <th></th>\n      <th></th>\n      <th></th>\n      <th></th>\n      <th></th>\n      <th></th>\n    </tr>\n  </thead>\n  <tbody>\n    <tr>\n      <th>1</th>\n      <td>0</td>\n      <td>3</td>\n      <td>Braund, Mr. Owen Harris</td>\n      <td>male</td>\n      <td>22.0</td>\n      <td>1</td>\n      <td>0</td>\n      <td>A/5 21171</td>\n      <td>7.25</td>\n      <td>NaN</td>\n      <td>S</td>\n    </tr>\n  </tbody>\n</table>\n</div>"
     },
     "execution_count": 9,
     "metadata": {},
     "output_type": "execute_result"
    }
   ],
   "source": [
    "df.head(1)"
   ]
  },
  {
   "cell_type": "code",
   "execution_count": 61,
   "outputs": [
    {
     "data": {
      "text/plain": "Survived                 0          1\nEmbarked Sex                         \nC        female   1.010101   7.182941\n         male     7.407407   3.254770\nQ        female   1.010101   3.030303\n         male     4.264871   0.336700\nS        female   7.070707  15.712682\n         male    40.852974   8.641975",
      "text/html": "<div>\n<style scoped>\n    .dataframe tbody tr th:only-of-type {\n        vertical-align: middle;\n    }\n\n    .dataframe tbody tr th {\n        vertical-align: top;\n    }\n\n    .dataframe thead th {\n        text-align: right;\n    }\n</style>\n<table border=\"1\" class=\"dataframe\">\n  <thead>\n    <tr style=\"text-align: right;\">\n      <th></th>\n      <th>Survived</th>\n      <th>0</th>\n      <th>1</th>\n    </tr>\n    <tr>\n      <th>Embarked</th>\n      <th>Sex</th>\n      <th></th>\n      <th></th>\n    </tr>\n  </thead>\n  <tbody>\n    <tr>\n      <th rowspan=\"2\" valign=\"top\">C</th>\n      <th>female</th>\n      <td>1.010101</td>\n      <td>7.182941</td>\n    </tr>\n    <tr>\n      <th>male</th>\n      <td>7.407407</td>\n      <td>3.254770</td>\n    </tr>\n    <tr>\n      <th rowspan=\"2\" valign=\"top\">Q</th>\n      <th>female</th>\n      <td>1.010101</td>\n      <td>3.030303</td>\n    </tr>\n    <tr>\n      <th>male</th>\n      <td>4.264871</td>\n      <td>0.336700</td>\n    </tr>\n    <tr>\n      <th rowspan=\"2\" valign=\"top\">S</th>\n      <th>female</th>\n      <td>7.070707</td>\n      <td>15.712682</td>\n    </tr>\n    <tr>\n      <th>male</th>\n      <td>40.852974</td>\n      <td>8.641975</td>\n    </tr>\n  </tbody>\n</table>\n</div>"
     },
     "execution_count": 61,
     "metadata": {},
     "output_type": "execute_result"
    }
   ],
   "source": [
    "# Assuming your DataFrame is named 'df'\n",
    "embarked = df.groupby(['Embarked', 'Sex', 'Survived']).size()\n",
    "embarked = (embarked / total ) * 100\n",
    "embarked = embarked.unstack()\n",
    "\n",
    "embarked"
   ],
   "metadata": {
    "collapsed": false,
    "ExecuteTime": {
     "end_time": "2023-07-01T16:57:09.937669700Z",
     "start_time": "2023-07-01T16:57:09.915249Z"
    }
   }
  },
  {
   "cell_type": "code",
   "execution_count": 62,
   "outputs": [
    {
     "data": {
      "text/plain": "Survived             0          1      Total\n(C, female)   1.010101   7.182941   8.193042\n(C, male)     7.407407   3.254770  10.662177\n(Q, female)   1.010101   3.030303   4.040404\n(Q, male)     4.264871   0.336700   4.601571\n(S, female)   7.070707  15.712682  22.783389\n(S, male)    40.852974   8.641975  49.494949\nTotal        61.616162  38.159371        NaN",
      "text/html": "<div>\n<style scoped>\n    .dataframe tbody tr th:only-of-type {\n        vertical-align: middle;\n    }\n\n    .dataframe tbody tr th {\n        vertical-align: top;\n    }\n\n    .dataframe thead th {\n        text-align: right;\n    }\n</style>\n<table border=\"1\" class=\"dataframe\">\n  <thead>\n    <tr style=\"text-align: right;\">\n      <th>Survived</th>\n      <th>0</th>\n      <th>1</th>\n      <th>Total</th>\n    </tr>\n  </thead>\n  <tbody>\n    <tr>\n      <th>(C, female)</th>\n      <td>1.010101</td>\n      <td>7.182941</td>\n      <td>8.193042</td>\n    </tr>\n    <tr>\n      <th>(C, male)</th>\n      <td>7.407407</td>\n      <td>3.254770</td>\n      <td>10.662177</td>\n    </tr>\n    <tr>\n      <th>(Q, female)</th>\n      <td>1.010101</td>\n      <td>3.030303</td>\n      <td>4.040404</td>\n    </tr>\n    <tr>\n      <th>(Q, male)</th>\n      <td>4.264871</td>\n      <td>0.336700</td>\n      <td>4.601571</td>\n    </tr>\n    <tr>\n      <th>(S, female)</th>\n      <td>7.070707</td>\n      <td>15.712682</td>\n      <td>22.783389</td>\n    </tr>\n    <tr>\n      <th>(S, male)</th>\n      <td>40.852974</td>\n      <td>8.641975</td>\n      <td>49.494949</td>\n    </tr>\n    <tr>\n      <th>Total</th>\n      <td>61.616162</td>\n      <td>38.159371</td>\n      <td>NaN</td>\n    </tr>\n  </tbody>\n</table>\n</div>"
     },
     "execution_count": 62,
     "metadata": {},
     "output_type": "execute_result"
    }
   ],
   "source": [
    "row_totals = embarked.sum(axis=1)\n",
    "column_totals = embarked.sum()\n",
    "\n",
    "embarked.loc['Total'] = column_totals\n",
    "embarked['Total'] = row_totals\n",
    "embarked"
   ],
   "metadata": {
    "collapsed": false,
    "ExecuteTime": {
     "end_time": "2023-07-01T16:57:14.105313700Z",
     "start_time": "2023-07-01T16:57:14.083080600Z"
    }
   }
  },
  {
   "cell_type": "code",
   "execution_count": 63,
   "outputs": [
    {
     "data": {
      "text/plain": "Survived          0          1\nEmbarked                      \nC         44.642857  55.357143\nQ         61.038961  38.961039\nS         66.304348  33.695652",
      "text/html": "<div>\n<style scoped>\n    .dataframe tbody tr th:only-of-type {\n        vertical-align: middle;\n    }\n\n    .dataframe tbody tr th {\n        vertical-align: top;\n    }\n\n    .dataframe thead th {\n        text-align: right;\n    }\n</style>\n<table border=\"1\" class=\"dataframe\">\n  <thead>\n    <tr style=\"text-align: right;\">\n      <th>Survived</th>\n      <th>0</th>\n      <th>1</th>\n    </tr>\n    <tr>\n      <th>Embarked</th>\n      <th></th>\n      <th></th>\n    </tr>\n  </thead>\n  <tbody>\n    <tr>\n      <th>C</th>\n      <td>44.642857</td>\n      <td>55.357143</td>\n    </tr>\n    <tr>\n      <th>Q</th>\n      <td>61.038961</td>\n      <td>38.961039</td>\n    </tr>\n    <tr>\n      <th>S</th>\n      <td>66.304348</td>\n      <td>33.695652</td>\n    </tr>\n  </tbody>\n</table>\n</div>"
     },
     "execution_count": 63,
     "metadata": {},
     "output_type": "execute_result"
    }
   ],
   "source": [
    "embarked = df.groupby(['Embarked', 'Survived']).size().unstack()\n",
    "total_per_embarked = df.groupby('Embarked').size()\n",
    "embarked_probability = embarked.apply(lambda x: (x / total_per_embarked[x.name]) * 100, axis=1)\n",
    "embarked_probability"
   ],
   "metadata": {
    "collapsed": false,
    "ExecuteTime": {
     "end_time": "2023-07-01T16:57:15.543481100Z",
     "start_time": "2023-07-01T16:57:15.523445300Z"
    }
   }
  },
  {
   "cell_type": "code",
   "execution_count": 64,
   "outputs": [
    {
     "name": "stdout",
     "output_type": "stream",
     "text": [
      "After a research on the Internet looking for the documentation of the dataset, we know the following:\n",
      "\n",
      "- Data description:\n",
      "    * Survival - Survival (0 = No; 1 = Yes)\n",
      "    * Pclass - Passenger Class (1 = 1st; 2 = 2nd; 3 = 3rd)\n",
      "    * Name - Name\n",
      "    * Sex - Sex\n",
      "    * Age - Age\n",
      "    * Sibsp - Number of Siblings/Spouses Aboard\n",
      "    * Parch - Number of Parents/Children Aboard\n",
      "    * Ticket - Ticket Number\n",
      "    * Fare - Passenger Fare\n",
      "    * Cabin - Cabin\n",
      "    * Embarked - Port of Embarkation (C = Cherbourg; Q = Queenstown; S = Southampton)\n"
     ]
    }
   ],
   "source": [
    "print('After a research on the Internet looking for the documentation of the dataset, we know the following:')\n",
    "print('''\n",
    "- Data description:\n",
    "    * Survival - Survival (0 = No; 1 = Yes)\n",
    "    * Pclass - Passenger Class (1 = 1st; 2 = 2nd; 3 = 3rd)\n",
    "    * Name - Name\n",
    "    * Sex - Sex\n",
    "    * Age - Age\n",
    "    * Sibsp - Number of Siblings/Spouses Aboard\n",
    "    * Parch - Number of Parents/Children Aboard\n",
    "    * Ticket - Ticket Number\n",
    "    * Fare - Passenger Fare\n",
    "    * Cabin - Cabin\n",
    "    * Embarked - Port of Embarkation (C = Cherbourg; Q = Queenstown; S = Southampton)''')"
   ],
   "metadata": {
    "collapsed": false,
    "ExecuteTime": {
     "end_time": "2023-07-01T16:57:16.667702300Z",
     "start_time": "2023-07-01T16:57:16.651164600Z"
    }
   }
  },
  {
   "cell_type": "code",
   "execution_count": 65,
   "outputs": [
    {
     "name": "stdout",
     "output_type": "stream",
     "text": [
      "Insight 1:\n",
      " After analyzing the relation between Port of Embarkation, Sex and Survival, we conclude:\n",
      " - Overall Survival: Survival rates were highest for passengers who embarked from Cherbourg (55.36%), followed by Queenstown (38.96%) and Southampton (33.70%).\n",
      " - Gender Influence: In all ports, female passengers had a higher survival rate than males.\n",
      " - Port & Gender: Cherbourg had the highest survival rates for both genders, while Southampton had the most passengers.\n"
     ]
    }
   ],
   "source": [
    "print(\"Insight 1:\")\n",
    "print(\" After analyzing the relation between Port of Embarkation, Sex and Survival, we conclude:\")\n",
    "print(\" - Overall Survival: Survival rates were highest for passengers who embarked from Cherbourg (55.36%), followed by Queenstown (38.96%) and Southampton (33.70%).\")\n",
    "print(\" - Gender Influence: In all ports, female passengers had a higher survival rate than males.\")\n",
    "print(\" - Port & Gender: Cherbourg had the highest survival rates for both genders, while Southampton had the most passengers.\")"
   ],
   "metadata": {
    "collapsed": false,
    "ExecuteTime": {
     "end_time": "2023-07-01T16:57:17.754648200Z",
     "start_time": "2023-07-01T16:57:17.737615900Z"
    }
   }
  },
  {
   "cell_type": "code",
   "execution_count": 86,
   "outputs": [],
   "source": [
    "df_copy = df.copy()\n",
    "df_copy['Surname'] = df_copy['Name'].str.split(',').str[0].str.strip()\n",
    "df_copy['FamilyMembers'] = df_copy['SibSp'] + df_copy['Parch']\n",
    "df_copy.sort_values(by=['Surname', 'FamilyMembers'], inplace=True)\n",
    "\n",
    "family_tree = pd.DataFrame(columns=['Father', 'Mother', 'Siblings', 'Survival %'])\n",
    "\n",
    "# Variables to count different survival scenarios\n",
    "all_survived = all_died = father_died = mother_died = father_mother_died = siblings_survived = mother_father_survived_siblings_not = 0\n",
    "no_siblings = no_parents = 0\n",
    "\n",
    "for surname, group in df_copy.groupby('Surname'):\n",
    "    father = mother = siblings = None\n",
    "\n",
    "    male_members = group[group['Sex'] == 'male']\n",
    "    if not male_members.empty:\n",
    "        father = male_members.iloc[0]['Name']\n",
    "        father_survival_percentage = male_members['Survived'].mean() * 100\n",
    "\n",
    "    female_members = group[group['Sex'] == 'female']\n",
    "    if not female_members.empty:\n",
    "        mother = female_members.iloc[0]['Name']\n",
    "        mother_survival_percentage = female_members['Survived'].mean() * 100\n",
    "\n",
    "    sibling_members = group[group['Age'].notna()].sort_values(by='Age')\n",
    "    if len(sibling_members) > 0:\n",
    "        siblings = sibling_members['Name'].tolist()\n",
    "        siblings_survival_percentage = sibling_members['Survived'].mean() * 100\n",
    "\n",
    "    family_survival_percentage = group['Survived'].mean() * 100\n",
    "\n",
    "    family_tree.loc[surname] = [father, mother, siblings, family_survival_percentage]\n",
    "\n",
    "    # Update counts based on survival scenarios\n",
    "    if family_survival_percentage == 100:\n",
    "        all_survived += 1\n",
    "    elif family_survival_percentage == 0:\n",
    "        all_died += 1\n",
    "    elif father and father_survival_percentage == 0:\n",
    "        father_died += 1\n",
    "    elif mother and mother_survival_percentage == 0:\n",
    "        mother_died += 1\n",
    "    elif father and mother and father_survival_percentage == 0 and mother_survival_percentage == 0 and siblings_survival_percentage == 100:\n",
    "        father_mother_died += 1\n",
    "    elif mother and father_survival_percentage == 100 and mother_survival_percentage == 100 and siblings_survival_percentage < 100:\n",
    "        mother_father_survived_siblings_not += 1\n",
    "    elif siblings_survival_percentage == 100:\n",
    "        siblings_survived += 1\n",
    "\n",
    "    # Update counts for families without siblings\n",
    "    if len(sibling_members) == 0:\n",
    "        no_siblings += 1\n",
    "\n",
    "    # Update counts for children without parents\n",
    "    if len(male_members) == 0 and len(female_members) == 0:\n",
    "        no_parents += 1"
   ],
   "metadata": {
    "collapsed": false,
    "ExecuteTime": {
     "end_time": "2023-07-01T17:44:58.950524Z",
     "start_time": "2023-07-01T17:44:57.555605600Z"
    }
   }
  },
  {
   "cell_type": "code",
   "execution_count": 88,
   "outputs": [
    {
     "name": "stdout",
     "output_type": "stream",
     "text": [
      "Insight 2:\n",
      " After analyzing the relation between Surname, SibSp Parch, we conclude that:\n",
      "\n",
      " - Total number of passengers: 891\n",
      " - Total number of families: 667\n",
      " - Number of families where all members survived: 224\n",
      " - Number of families where all members died: 387\n",
      " - Number of families where the father died: 38\n",
      " - Number of families where the mother died: 2\n",
      " - Number of families where the father and mother died, and siblings survived: 0\n",
      " - Number of families where the mother and father survived, but siblings did not: 0\n",
      " - Number of families without siblings: 132\n",
      " - Number of children without parents: 0\n"
     ]
    }
   ],
   "source": [
    "print(\"Insight 2:\")\n",
    "print(\" After analyzing the relation between Surname, SibSp Parch, we conclude that:\\n\")\n",
    "print(\" - Total number of passengers:\", total)\n",
    "print(\" - Total number of families:\", len(family_tree))\n",
    "print(\" - Number of families where all members survived:\", all_survived)\n",
    "print(\" - Number of families where all members died:\", all_died)\n",
    "print(\" - Number of families where the father died:\", father_died)\n",
    "print(\" - Number of families where the mother died:\", mother_died)\n",
    "print(\" - Number of families where the father and mother died, and siblings survived:\", father_mother_died)\n",
    "print(\" - Number of families where the mother and father survived, but siblings did not:\", mother_father_survived_siblings_not)\n",
    "print(\" - Number of families without siblings:\", no_siblings)\n",
    "print(\" - Number of children without parents:\", no_parents)"
   ],
   "metadata": {
    "collapsed": false,
    "ExecuteTime": {
     "end_time": "2023-07-01T17:45:15.387084600Z",
     "start_time": "2023-07-01T17:45:15.358562200Z"
    }
   }
  },
  {
   "cell_type": "code",
   "execution_count": 104,
   "outputs": [
    {
     "data": {
      "text/plain": "Embarked  Pclass  Sex   \nC         1       female    115.640309\n                  male       93.536707\n          2       female     25.268457\n                  male       25.421250\n          3       female     14.694926\n                  male        9.352237\nQ         1       female     90.000000\n                  male       90.000000\n          2       female     12.350000\n                  male       12.350000\n          3       female     10.307833\n                  male       11.924251\nS         1       female     99.026910\n                  male       52.949947\n          2       female     21.912687\n                  male       19.232474\n          3       female     18.670077\n                  male       13.307149\nName: Fare, dtype: float64"
     },
     "execution_count": 104,
     "metadata": {},
     "output_type": "execute_result"
    }
   ],
   "source": [
    "group = df.groupby(['Embarked', 'Pclass', 'Sex'])['Fare'].mean()\n",
    "group"
   ],
   "metadata": {
    "collapsed": false,
    "ExecuteTime": {
     "end_time": "2023-07-01T18:07:42.382042100Z",
     "start_time": "2023-07-01T18:07:42.356446800Z"
    }
   }
  },
  {
   "cell_type": "code",
   "execution_count": 105,
   "outputs": [
    {
     "data": {
      "text/plain": "Embarked  Pclass\nC         1         23.630939\n          2         -0.601044\n          3         57.127388\nQ         1          0.000000\n          2          0.000000\n          3        -13.555719\nS         1         87.019849\n          2         13.935869\n          3         40.301106\nName: Fare, dtype: float64"
     },
     "execution_count": 105,
     "metadata": {},
     "output_type": "execute_result"
    }
   ],
   "source": [
    "female_fares = group.loc[:, :, 'female']\n",
    "male_fares = group.loc[:, :, 'male']\n",
    "\n",
    "percentage_difference = (female_fares - male_fares) / male_fares * 100\n",
    "percentage_difference"
   ],
   "metadata": {
    "collapsed": false,
    "ExecuteTime": {
     "end_time": "2023-07-01T18:07:45.013561100Z",
     "start_time": "2023-07-01T18:07:44.973471300Z"
    }
   }
  },
  {
   "cell_type": "code",
   "execution_count": 106,
   "outputs": [
    {
     "name": "stdout",
     "output_type": "stream",
     "text": [
      "Insight 2:\n",
      " After analyzing the relation between Port Embarked, Sex, Pclass and Fares, we conclude that:\n",
      "\n",
      " - Cherbourg: Women in 1st and 3rd class paid 23.63% and 57.13% more respectively, while in 2nd class they paid 0.60% less than men.\n",
      " - Queenstown: Fares were equal for men and women in 1st and 2nd class, but women in 3rd class paid 13.56% less.\n",
      " - Southampton: Women paid more across all classes, with the highest difference in 1st class (87.02%).\n"
     ]
    }
   ],
   "source": [
    "print(\"Insight 3:\")\n",
    "print(\" After analyzing the relation between Port Embarked, Sex, Pclass and Fares, we conclude that:\\n\")\n",
    "print(\" - Cherbourg: Women in 1st and 3rd class paid 23.63% and 57.13% more respectively, while in 2nd class they paid 0.60% less than men.\")\n",
    "print(\" - Queenstown: Fares were equal for men and women in 1st and 2nd class, but women in 3rd class paid 13.56% less.\")\n",
    "print(\" - Southampton: Women paid more across all classes, with the highest difference in 1st class (87.02%).\")"
   ],
   "metadata": {
    "collapsed": false,
    "ExecuteTime": {
     "end_time": "2023-07-01T18:08:25.448510800Z",
     "start_time": "2023-07-01T18:08:25.429484Z"
    }
   }
  }
 ],
 "metadata": {
  "kernelspec": {
   "display_name": "Python 3 (ipykernel)",
   "language": "python",
   "name": "python3"
  },
  "language_info": {
   "codemirror_mode": {
    "name": "ipython",
    "version": 3
   },
   "file_extension": ".py",
   "mimetype": "text/x-python",
   "name": "python",
   "nbconvert_exporter": "python",
   "pygments_lexer": "ipython3",
   "version": "3.10.11"
  }
 },
 "nbformat": 4,
 "nbformat_minor": 5
}
